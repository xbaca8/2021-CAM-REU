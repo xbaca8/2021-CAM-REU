{
  "nbformat": 4,
  "nbformat_minor": 0,
  "metadata": {
    "accelerator": "GPU",
    "colab": {
      "name": "Hyperspectral SSL",
      "provenance": [],
      "collapsed_sections": [
        "z4VneM2I7vNy",
        "HGLl3RZLyZAb"
      ],
      "include_colab_link": true
    },
    "kernelspec": {
      "display_name": "Python 3",
      "name": "python3"
    },
    "language_info": {
      "name": "python"
    }
  },
  "cells": [
    {
      "cell_type": "markdown",
      "metadata": {
        "id": "view-in-github",
        "colab_type": "text"
      },
      "source": [
        "<a href=\"https://colab.research.google.com/github/xbaca8/2021-CAM-REU/blob/main/Hyperspectral_SSL.ipynb\" target=\"_parent\"><img src=\"https://colab.research.google.com/assets/colab-badge.svg\" alt=\"Open In Colab\"/></a>"
      ]
    },
    {
      "cell_type": "code",
      "metadata": {
        "colab": {
          "base_uri": "https://localhost:8080/"
        },
        "id": "vgAAll6QGaiv",
        "outputId": "c0a03396-365f-44ee-961e-e4654145faae"
      },
      "source": [
        "pip install -q graphlearning"
      ],
      "execution_count": null,
      "outputs": [
        {
          "output_type": "stream",
          "text": [
            "\u001b[K     |████████████████████████████████| 49 kB 6.8 MB/s \n",
            "\u001b[K     |████████████████████████████████| 646 kB 46.4 MB/s \n",
            "\u001b[K     |████████████████████████████████| 93 kB 902 kB/s \n",
            "\u001b[?25h  Building wheel for graphlearning (setup.py) ... \u001b[?25l\u001b[?25hdone\n",
            "  Building wheel for annoy (setup.py) ... \u001b[?25l\u001b[?25hdone\n"
          ],
          "name": "stdout"
        }
      ]
    },
    {
      "cell_type": "code",
      "metadata": {
        "id": "uONTLvgqbg9T"
      },
      "source": [
        "pip install -U numpy"
      ],
      "execution_count": null,
      "outputs": []
    },
    {
      "cell_type": "code",
      "metadata": {
        "id": "Km_Q9DTrGSiR"
      },
      "source": [
        "import matplotlib.pyplot as plt\n",
        "import urllib.request\n",
        "import graphlearning as gl\n",
        "from scipy.io import loadmat\n",
        "import numpy as np\n",
        "import scipy.spatial as spatial\n",
        "import scipy.sparse as sparse\n",
        "import os"
      ],
      "execution_count": null,
      "outputs": []
    },
    {
      "cell_type": "code",
      "metadata": {
        "id": "lvE4_WW-FCZh"
      },
      "source": [
        "def importH_image(url, file_name, key_name, subsample = False, display_slice = False):\n",
        "    \"\"\"\n",
        "    Loads in image from the internet\n",
        "    importH_image takes in:\n",
        "        url: Pathway to image on internet\n",
        "        file_name: Name of file on internet\n",
        "        subsample: Whether or not to subsample the image. default to False\n",
        "        display_slice - Whether or not to show a slice of one of the\n",
        "                        Hyperspectral bands\n",
        "    \"\"\"\n",
        "    urllib.request.urlretrieve(url, file_name)\n",
        "    data = loadmat(file_name)\n",
        "    image = data[key_name]\n",
        "    image = image.astype('float32')\n",
        "\n",
        "    #Scale pixel values to [0,1]\n",
        "    image = image/255\n",
        "\n",
        "    if subsample:\n",
        "        #Subsample the image\n",
        "        image = image[::2,::2,:]\n",
        "\n",
        "    #Print image shape\n",
        "    print(image.shape)\n",
        "\n",
        "    #Display image\n",
        "    if display_slice:\n",
        "        rand_slice = np.random.randint(image.shape[2])\n",
        "        plt.imshow(image[:,:,rand_slice])\n",
        "        plt.show(block = True)\n",
        "        print(rand_slice)\n",
        "          \n",
        "    return image    "
      ],
      "execution_count": null,
      "outputs": []
    },
    {
      "cell_type": "code",
      "metadata": {
        "id": "P_kMktVIliei"
      },
      "source": [
        "def importH_GT(url, file_name, key_name):\n",
        "  # Get ground truth labels\n",
        "  urllib.request.urlretrieve(url, file_name)\n",
        "  data = loadmat(file_name)\n",
        "  gt = data[key_name]\n",
        "  return gt"
      ],
      "execution_count": null,
      "outputs": []
    },
    {
      "cell_type": "code",
      "metadata": {
        "colab": {
          "base_uri": "https://localhost:8080/"
        },
        "id": "Gt3qntvYFzTc",
        "outputId": "5504ade6-1624-4f9b-bb11-050c996aa728"
      },
      "source": [
        "#Download image\n",
        "image = importH_image('http://www.ehu.eus/ccwintco/uploads/d/df/SalinasA.mat', 'salinasA.mat', 'salinasA')\n",
        "\n",
        "salinas2d = image.reshape(-1, image.shape[2])\n",
        "knn = 30\n",
        "\n",
        "try:\n",
        "    print(\"Looking for precomputed weight matrix ...\")\n",
        "    # W = gl.knn_weight_matrix(knn, dataset='salinasA', metric='angular')\n",
        "    I,J,D = gl.load_kNN_data('salinasA', metric='angular')\n",
        "except:\n",
        "    print(\"Error in finding weight matrix, computing from scratch\")\n",
        "    I,J,D = gl.knnsearch_annoy(salinas2d, k=knn, similarity='angular', dataset='salinasA', metric='angular')\n",
        "W = gl.weight_matrix(I,J,D,knn)"
      ],
      "execution_count": null,
      "outputs": [
        {
          "output_type": "stream",
          "text": [
            "(83, 86, 224)\n",
            "Looking for precomputed weight matrix ...\n",
            "Downloading https://github.com/jwcalder/GraphLearning/raw/master/kNNData/salinasA_angular.npz to /kNNData/salinasA_angular.npz...\n",
            "Error in finding weight matrix, computing from scratch\n",
            "kNN search with Annoy approximate nearest neighbor package...\n",
            "Progress: |██████████████████████████████████████████████████| 100.0% Complete\n"
          ],
          "name": "stdout"
        }
      ]
    },
    {
      "cell_type": "code",
      "metadata": {
        "id": "H0HL3z9DF0HG"
      },
      "source": [
        "\"\"\"Let's compute and plot the eigenvectors now.\"\"\"\n",
        "\n",
        "L = gl.graph_laplacian(W, norm='normalized')\n",
        "\n",
        "num_eigenvectors = 10\n",
        "vals, vecs = sparse.linalg.eigs(L,k=num_eigenvectors,which='SM')\n",
        "\n",
        "for i in range(1, num_eigenvectors):\n",
        "  selected_eigenvector = vecs[:,i].real\n",
        "  reshapedeigen = selected_eigenvector.reshape(83, 86)\n",
        "  plt.imshow(reshapedeigen,cmap='gray', vmin = np.min(selected_eigenvector), vmax = np.max(selected_eigenvector))\n",
        "  plt.title(\"Eigenvector \" + str(i))\n",
        "  plt.show(block = True)"
      ],
      "execution_count": null,
      "outputs": []
    },
    {
      "cell_type": "code",
      "metadata": {
        "colab": {
          "base_uri": "https://localhost:8080/",
          "height": 285
        },
        "id": "sgC1b1KsF25m",
        "outputId": "5695d154-a0e5-4ad0-f2bb-3b5cfeab249f"
      },
      "source": [
        "gt = importH_GT('http://www.ehu.eus/ccwintco/uploads/a/aa/SalinasA_gt.mat', 'salinasA_gt.mat', 'salinasA_gt')\n",
        "#define small subset of labeled data (randomly)\n",
        "labels = gt.flatten().astype(int)\n",
        "map = np.arange(15)\n",
        "map[10:15] = np.arange(2,7)\n",
        "labels = map[labels]  \n",
        "\n",
        "num_train_per_class = 30\n",
        "train_ind = gl.randomize_labels(labels, num_train_per_class)\n",
        "train_labels = labels[train_ind]\n",
        "\n",
        "# Create blank array of zeros same size as original image\n",
        "overlay_array = np.zeros((gt.shape[0], gt.shape[1]), dtype = int)\n",
        "\n",
        "# For loop that makes overlay array entries 1 where a label is taken from\n",
        "for i in range(len(train_ind)):\n",
        "    y_loc = train_ind[i] // gt.shape[1]\n",
        "    x_loc = train_ind[i] % gt.shape[0]\n",
        "\n",
        "    overlay_array[y_loc, x_loc] = 1\n",
        "\n",
        "plt.imshow(gt)\n",
        "plt.imshow(overlay_array, cmap = 'afmhot', alpha = 0.5)"
      ],
      "execution_count": null,
      "outputs": [
        {
          "output_type": "execute_result",
          "data": {
            "text/plain": [
              "<matplotlib.image.AxesImage at 0x7f5bba98cb90>"
            ]
          },
          "metadata": {
            "tags": []
          },
          "execution_count": 21
        },
        {
          "output_type": "display_data",
          "data": {
            "image/png": "[encoded data removed]",
            "text/plain": [
              "<Figure size 432x288 with 1 Axes>"
            ]
          },
          "metadata": {
            "tags": [],
            "needs_background": "light"
          }
        }
      ]
    },
    {
      "cell_type": "code",
      "metadata": {
        "id": "3Old1aZ-CVxw"
      },
      "source": [
        "from sklearn.feature_extraction.image import extract_patches_2d\n",
        "from scipy.ndimage import gaussian_filter\n",
        "from sklearn.cluster import KMeans\n",
        "\n",
        "## Function for Non-Local Means Method\n",
        "def NonLocalMeans(image, d):\n",
        "  \n",
        "  ## Pad the image with mirror reflections of itself with a width d\n",
        "  pad = (d,d)\n",
        "  padimage = np.pad(image,(pad,pad,(0,0)),mode='reflect') #(top,bottom),(left,right),(0,0)\n",
        "\n",
        "  ## For the ith pixel, make a (2d + 1) by (2d + 1) patch centered at pixel i\n",
        "  patches = extract_patches_2d(padimage, (2*d+1,2*d+1))\n",
        "\n",
        "  ## For the jth, (j = 1; 2; 3) band, apply a Gaussian kernel on this patch\n",
        "  u = np.zeros((2*d+1,2*d+1))\n",
        "  u[d,d] = 1\n",
        "  G = gaussian_filter(u,d/2,mode='constant',cval=0)\n",
        "  #patches = patches * G[np.newaxis,:,:,np.newaxis]\n",
        "  ## Form the feature matrix F by letting each row of F be a feature vector of a pixel\n",
        "  F = patches.reshape((patches.shape[0],patches.shape[3], patches.shape[1], patches.shape[2]))\n",
        "  print(\"feature vector shape: \", F.shape)\n",
        "\n",
        "  return F"
      ],
      "execution_count": null,
      "outputs": []
    },
    {
      "cell_type": "markdown",
      "metadata": {
        "id": "FWcHvLigmPBB"
      },
      "source": [
        "Importing Salinas"
      ]
    },
    {
      "cell_type": "code",
      "metadata": {
        "id": "rk0a5VEYmOhp"
      },
      "source": [
        "from sklearn.model_selection import train_test_split\n",
        "from sklearn.decomposition import PCA\n",
        "'''\n",
        "salinas = importH_image('http://www.ehu.eus/ccwintco/uploads/f/f1/Salinas.mat', 'salinas.mat', 'salinas')\n",
        "S_labels = importH_GT('http://www.ehu.eus/ccwintco/uploads/f/fa/Salinas_gt.mat', 'salinas_gt.mat', 'salinas_gt')\n",
        "'''\n",
        "#define small subset of labeled data (randomly)\n",
        "S_labels = S_labels.flatten().astype(int)\n",
        "\n",
        "num_train_per_class = 30\n",
        "S_train_ind = gl.randomize_labels(S_labels, num_train_per_class)\n",
        "S_train_labels = S_labels[S_train_ind]"
      ],
      "execution_count": null,
      "outputs": []
    },
    {
      "cell_type": "code",
      "metadata": {
        "colab": {
          "base_uri": "https://localhost:8080/",
          "height": 589
        },
        "id": "zPgMxCQcIVoT",
        "outputId": "fa2c2f38-cf8d-4739-96db-1ad65b8b3805"
      },
      "source": [
        "S_2d = salinas.reshape(-1, salinas.shape[2])\n",
        "\n",
        "# PCA on Salinas, code from Jason - 10 variables capture 99.96% of data\n",
        "pca = PCA(n_components=10)\n",
        "reduced_salinas = pca.fit_transform(S_2d)\n",
        "\n",
        "knn = 40\n",
        "\n",
        "I,J,D = gl.knnsearch_annoy(reduced_salinas, k=knn, similarity='angular', dataset='salinas', metric='angular')\n",
        "W_S = gl.weight_matrix(I,J,D,knn)\n",
        "\n",
        "# run gbssl (poisson or laplace)\n",
        "#Run Laplace learning\n",
        "S_labels_laplace = gl.graph_ssl(W_S,S_train_ind,S_train_labels,algorithm='laplace')\n",
        "\n",
        "# compare results -- compute accuracy \n",
        "print('Ground Truth:')\n",
        "showGT = S_labels.reshape(512,217)\n",
        "plt.imshow(showGT)\n",
        "plt.show(block = True)\n",
        "\n",
        "print('Laplace learning: %.2f%%'%gl.accuracy(S_labels,S_labels_laplace,len(S_train_ind)))\n",
        "showLaplace = S_labels_laplace.reshape(512, 217)\n",
        "plt.imshow(showLaplace)\n",
        "plt.show(block = True)\n"
      ],
      "execution_count": null,
      "outputs": [
        {
          "output_type": "stream",
          "text": [
            "kNN search with Annoy approximate nearest neighbor package...\n",
            "Progress: |██████████████████████████████████████████████████| 100.0% Complete\n",
            "Ground Truth:\n"
          ],
          "name": "stdout"
        },
        {
          "output_type": "display_data",
          "data": {
            "image/png": "[encoded data removed]",
            "text/plain": [
              "<Figure size 432x288 with 1 Axes>"
            ]
          },
          "metadata": {
            "tags": [],
            "needs_background": "light"
          }
        },
        {
          "output_type": "stream",
          "text": [
            "Laplace learning: 53.74%\n"
          ],
          "name": "stdout"
        },
        {
          "output_type": "display_data",
          "data": {
            "image/png": "[encoded data removed]",
            "text/plain": [
              "<Figure size 432x288 with 1 Axes>"
            ]
          },
          "metadata": {
            "tags": [],
            "needs_background": "light"
          }
        }
      ]
    },
    {
      "cell_type": "code",
      "metadata": {
        "colab": {
          "base_uri": "https://localhost:8080/"
        },
        "id": "mXd2g69Hvy-C",
        "outputId": "e69a8bc6-4b16-4792-88fd-960bc995e6cc"
      },
      "source": [
        "# PCA on Salinas, code from Jason - 10 variables capture 99.96% of data\n",
        "pca = PCA(n_components=10)\n",
        "num_pixels = salinas.shape[0]*salinas.shape[1]\n",
        "reduced_salinas = pca.fit_transform(salinas.reshape(num_pixels, salinas.shape[2]))\n",
        "reduced_salinas = reduced_salinas.reshape(salinas.shape[0], salinas.shape[1], 10)\n",
        "\n",
        "#Load Salinas data into (7138, 10, 9, 9) shape\n",
        "S_data = NonLocalMeans(reduced_salinas, 4)\n",
        "\n",
        "#Splitting data into training and testing\n",
        "train_data, test_data, train_labels, test_labels = train_test_split(S_data, S_labels, test_size = 0.3)\n"
      ],
      "execution_count": null,
      "outputs": [
        {
          "output_type": "stream",
          "text": [
            "feature vector shape:  (111104, 10, 9, 9)\n"
          ],
          "name": "stdout"
        }
      ]
    },
    {
      "cell_type": "markdown",
      "metadata": {
        "id": "v7xP0QkanSus"
      },
      "source": [
        "Simple Graph Learning on Salinas-A"
      ]
    },
    {
      "cell_type": "code",
      "metadata": {
        "colab": {
          "base_uri": "https://localhost:8080/",
          "height": 553
        },
        "id": "lBciOLGgGGJr",
        "outputId": "d8ae80d3-15fd-4abd-fded-35c853f1f510"
      },
      "source": [
        "# run gbssl (poisson or laplace)\n",
        "#Run Laplace learning\n",
        "labels_laplace = gl.graph_ssl(W,train_ind,train_labels,algorithm='laplace')\n",
        "\n",
        "#Run Poisson learning\n",
        "labels_poisson = gl.graph_ssl(W,train_ind,train_labels,algorithm='poisson')\n",
        "\n",
        "# compare results -- compute accuracy \n",
        "print('Laplace learning: %.2f%%'%gl.accuracy(labels,labels_laplace,len(train_ind)))\n",
        "showLaplace = labels_laplace.reshape(83, 86)\n",
        "plt.imshow(showLaplace)\n",
        "plt.show(block = True)\n",
        "\n",
        "print('Poisson learning: %.2f%%'%gl.accuracy(labels,labels_poisson,len(train_ind)))\n",
        "showPoisson = labels_poisson.reshape(83, 86)\n",
        "plt.imshow(showPoisson)\n",
        "plt.show(block = True)"
      ],
      "execution_count": null,
      "outputs": [
        {
          "output_type": "stream",
          "text": [
            "Laplace learning: 75.74%\n"
          ],
          "name": "stdout"
        },
        {
          "output_type": "display_data",
          "data": {
            "image/png": "[encoded data removed]",
            "text/plain": [
              "<Figure size 432x288 with 1 Axes>"
            ]
          },
          "metadata": {
            "tags": []
          }
        },
        {
          "output_type": "stream",
          "text": [
            "Poisson learning: 60.58%\n"
          ],
          "name": "stdout"
        },
        {
          "output_type": "display_data",
          "data": {
            "image/png": "[encoded data removed]",
            "text/plain": [
              "<Figure size 432x288 with 1 Axes>"
            ]
          },
          "metadata": {
            "tags": []
          }
        }
      ]
    },
    {
      "cell_type": "markdown",
      "metadata": {
        "id": "z4VneM2I7vNy"
      },
      "source": [
        "\n",
        "\n",
        "# VAE\n"
      ]
    },
    {
      "cell_type": "code",
      "metadata": {
        "id": "o1xbUEar7nrm"
      },
      "source": [
        "import torch\n",
        "import torch.utils.data\n",
        "from torch.utils.data import Dataset, DataLoader\n",
        "from torch import nn, optim\n",
        "from torch.nn import functional as F\n",
        "from torchvision import datasets, transforms\n",
        "from torchvision.utils import save_image"
      ],
      "execution_count": null,
      "outputs": []
    },
    {
      "cell_type": "code",
      "metadata": {
        "colab": {
          "base_uri": "https://localhost:8080/",
          "height": 232
        },
        "id": "IxTtDtdd77z8",
        "outputId": "e7f9b8e4-5040-4354-b8ce-4e95ba128161"
      },
      "source": [
        "class MyDataset(Dataset):\n",
        "    def __init__(self, data, targets, transform=None):\n",
        "        self.data = data\n",
        "        self.targets = targets\n",
        "        self.transform = transform\n",
        "        \n",
        "    def __getitem__(self, index):\n",
        "        x = self.data[index]\n",
        "        y = self.targets[index]\n",
        "        \n",
        "        if self.transform:\n",
        "            x = self.transform(x)\n",
        "        \n",
        "        return x, y\n",
        "    \n",
        "    def __len__(self):\n",
        "        return len(self.data)\n",
        "\n",
        "class VAE(nn.Module):\n",
        "    def __init__(self):\n",
        "        super(VAE, self).__init__()\n",
        "\n",
        "        self.fc1 = nn.Linear(224, 400)\n",
        "        self.fc21 = nn.Linear(400, 20)\n",
        "        self.fc22 = nn.Linear(400, 20)\n",
        "        self.fc3 = nn.Linear(20, 400)\n",
        "        self.fc4 = nn.Linear(400, 224)\n",
        "\n",
        "    def encode(self, x):\n",
        "        h1 = F.relu(self.fc1(x))\n",
        "        return self.fc21(h1), self.fc22(h1)\n",
        "\n",
        "    def reparameterize(self, mu, logvar):\n",
        "        std = torch.exp(0.5*logvar)\n",
        "        eps = torch.randn_like(std)\n",
        "        return mu + eps*std\n",
        "\n",
        "    def decode(self, z):\n",
        "        h3 = F.relu(self.fc3(z))\n",
        "        return torch.sigmoid(self.fc4(h3))\n",
        "\n",
        "    def forward(self, x):\n",
        "        mu, logvar = self.encode(x.view(-1, 224))\n",
        "        z = self.reparameterize(mu, logvar)\n",
        "        return self.decode(z), mu, logvar\n",
        "\n",
        "# Reconstruction + KL divergence losses summed over all elements and batch\n",
        "def loss_function(recon_x, x, mu, logvar):\n",
        "    BCE = F.binary_cross_entropy(recon_x, x.view(-1, 224), reduction='sum')\n",
        "\n",
        "    # see Appendix B from VAE paper:\n",
        "    # Kingma and Welling. Auto-Encoding Variational Bayes. ICLR, 2014\n",
        "    # https://arxiv.org/abs/1312.6114\n",
        "    # 0.5 * sum(1 + log(sigma^2) - mu^2 - sigma^2)\n",
        "    KLD = -0.5 * torch.sum(1 + logvar - mu.pow(2) - logvar.exp())\n",
        "\n",
        "    return BCE + KLD\n",
        "\n",
        "\n",
        "def train(epoch):\n",
        "    model.train()\n",
        "    train_loss = 0\n",
        "    for batch_idx, (data, _) in enumerate(data_loader):\n",
        "        data = data.to(device)\n",
        "        optimizer.zero_grad()\n",
        "        recon_batch, mu, logvar = model(data)\n",
        "        loss = loss_function(recon_batch, data, mu, logvar)\n",
        "        loss.backward()\n",
        "        train_loss += loss.item()\n",
        "        optimizer.step()\n",
        "        if batch_idx % log_interval == 0:\n",
        "            print('Train Epoch: {} [{}/{} ({:.0f}%)]\\tLoss: {:.6f}'.format(\n",
        "                epoch, batch_idx * len(data), len(data_loader.dataset),\n",
        "                100. * batch_idx / len(data_loader),\n",
        "                loss.item() / len(data)))\n",
        "\n",
        "    print('====> Epoch: {} Average loss: {:.4f}'.format(\n",
        "          epoch, train_loss / len(data_loader.dataset)))"
      ],
      "execution_count": null,
      "outputs": [
        {
          "output_type": "error",
          "ename": "NameError",
          "evalue": "ignored",
          "traceback": [
            "\u001b[0;31m---------------------------------------------------------------------------\u001b[0m",
            "\u001b[0;31mNameError\u001b[0m                                 Traceback (most recent call last)",
            "\u001b[0;32m<ipython-input-17-7b0a658d209a>\u001b[0m in \u001b[0;36m<module>\u001b[0;34m()\u001b[0m\n\u001b[0;32m----> 1\u001b[0;31m \u001b[0;32mclass\u001b[0m \u001b[0mMyDataset\u001b[0m\u001b[0;34m(\u001b[0m\u001b[0mDataset\u001b[0m\u001b[0;34m)\u001b[0m\u001b[0;34m:\u001b[0m\u001b[0;34m\u001b[0m\u001b[0;34m\u001b[0m\u001b[0m\n\u001b[0m\u001b[1;32m      2\u001b[0m     \u001b[0;32mdef\u001b[0m \u001b[0m__init__\u001b[0m\u001b[0;34m(\u001b[0m\u001b[0mself\u001b[0m\u001b[0;34m,\u001b[0m \u001b[0mdata\u001b[0m\u001b[0;34m,\u001b[0m \u001b[0mtargets\u001b[0m\u001b[0;34m,\u001b[0m \u001b[0mtransform\u001b[0m\u001b[0;34m=\u001b[0m\u001b[0;32mNone\u001b[0m\u001b[0;34m)\u001b[0m\u001b[0;34m:\u001b[0m\u001b[0;34m\u001b[0m\u001b[0;34m\u001b[0m\u001b[0m\n\u001b[1;32m      3\u001b[0m         \u001b[0mself\u001b[0m\u001b[0;34m.\u001b[0m\u001b[0mdata\u001b[0m \u001b[0;34m=\u001b[0m \u001b[0mdata\u001b[0m\u001b[0;34m\u001b[0m\u001b[0;34m\u001b[0m\u001b[0m\n\u001b[1;32m      4\u001b[0m         \u001b[0mself\u001b[0m\u001b[0;34m.\u001b[0m\u001b[0mtargets\u001b[0m \u001b[0;34m=\u001b[0m \u001b[0mtargets\u001b[0m\u001b[0;34m\u001b[0m\u001b[0;34m\u001b[0m\u001b[0m\n\u001b[1;32m      5\u001b[0m         \u001b[0mself\u001b[0m\u001b[0;34m.\u001b[0m\u001b[0mtransform\u001b[0m \u001b[0;34m=\u001b[0m \u001b[0mtransform\u001b[0m\u001b[0;34m\u001b[0m\u001b[0;34m\u001b[0m\u001b[0m\n",
            "\u001b[0;31mNameError\u001b[0m: name 'Dataset' is not defined"
          ]
        }
      ]
    },
    {
      "cell_type": "code",
      "metadata": {
        "id": "DGn4Y3Nr8Jwz"
      },
      "source": [
        "no_cuda = False\n",
        "batch_size = 128\n",
        "log_interval = 10    #how many batches to wait before logging training status\n",
        "epochs = 100\n",
        "\n",
        "#GPU settings\n",
        "cuda = not no_cuda and torch.cuda.is_available()\n",
        "device = torch.device(\"cuda\" if cuda else \"cpu\")\n",
        "kwargs = {'num_workers': 1, 'pin_memory': True} if cuda else {}\n",
        "\n",
        "#Load SalinasA data\n",
        "salinas2d = salinas2d/np.max(salinas2d)\n",
        "data = salinas2d\n",
        "target = labels\n",
        "\n",
        "#Convert to torch dataloaders\n",
        "data = torch.from_numpy(data).float()\n",
        "target = torch.from_numpy(target).long()\n",
        "salinasA = MyDataset(data, target) \n",
        "data_loader = DataLoader(salinasA, batch_size = batch_size, shuffle = True, **kwargs)\n",
        "\n",
        "#Put model on GPU and set up optimizer\n",
        "model = VAE().to(device)\n",
        "optimizer = optim.Adam(model.parameters(), lr=1e-3)\n",
        "\n",
        "#Training epochs\n",
        "for epoch in range(1, epochs + 1):\n",
        "    train(epoch)\n",
        "\n",
        "#Encode the dataset and save to npz file\n",
        "with torch.no_grad():\n",
        "    mu, logvar = model.encode(data.to(device).view(-1, 224))\n",
        "    Y = mu.cpu().numpy()\n",
        "    np.savez_compressed('SalinasA_vae.npz',data=Y,labels=target.numpy())"
      ],
      "execution_count": null,
      "outputs": []
    },
    {
      "cell_type": "code",
      "metadata": {
        "id": "ATlnzejK8MLt"
      },
      "source": [
        "import graphlearning as gl\n",
        "import numpy as np\n",
        "\n",
        "#Load labels, knndata, and build 10-nearest neighbor weight matrix\n",
        "W_raw = W\n",
        "\n",
        "#Variational autoencoder weight matrix (can use commented line below, \n",
        "#but we're showing how to use the embedding computed above)\n",
        "#W_vae = gl.knn_weight_matrix(10,dataset='mnist',metric='vae')\n",
        "M = np.load('SalinasA_vae.npz')\n",
        "data = M['data']\n",
        "W_vae = gl.knn_weight_matrix(20,data=data);\n",
        "\n",
        "#Randomly chose training datapoints (use a stored permutation to be consistent)\n",
        "#perm = gl.load_label_permutation('mnist')\n",
        "#train_ind = perm[0]\n",
        "#train_labels = labels[train_ind]\n",
        "\n",
        "#Run Laplace and Poisson learning\n",
        "labels_raw = gl.graph_ssl(W_raw,train_ind,train_labels,algorithm='laplace')\n",
        "labels_vae = gl.graph_ssl(W_vae,train_ind,train_labels,algorithm='laplace')\n",
        "\n",
        "#Print accuracy\n",
        "print('Using %d labels per class'%int(len(train_ind)/7))\n",
        "print('Accuracy using raw pixel values: %.2f'%gl.accuracy(labels_raw,labels,len(train_ind)))\n",
        "print('Accuracy using VAE: %.2f'%gl.accuracy(labels_vae,labels,len(train_ind)))"
      ],
      "execution_count": null,
      "outputs": []
    },
    {
      "cell_type": "markdown",
      "metadata": {
        "id": "HGLl3RZLyZAb"
      },
      "source": [
        "# CNN Try #2"
      ]
    },
    {
      "cell_type": "code",
      "metadata": {
        "id": "OTe8K5mRv1V1"
      },
      "source": [
        "# Imports\n",
        "import torch\n",
        "import torchvision # torch package for vision related things\n",
        "import torch.nn.functional as F  # Parameterless functions, like (some) activation functions\n",
        "import torchvision.datasets as datasets  # Standard datasets\n",
        "import torchvision.transforms as transforms  # Transformations we can perform on our dataset for augmentation\n",
        "from torch import optim  # For optimizers like SGD, Adam, etc.\n",
        "from torch import nn  # All neural network modules\n",
        "from torch.utils.data import Dataset, DataLoader  # Gives easier dataset managment by creating mini batches etc.\n",
        "from tqdm import tqdm  # For nice progress bar!\n",
        "from torch.optim.lr_scheduler import StepLR\n",
        "\n",
        "# Simple CNN\n",
        "class CNN(nn.Module):\n",
        "    def __init__(self, in_channels=in_channels, num_classes=num_classes):\n",
        "        super(CNN, self).__init__()\n",
        "        self.conv1 = nn.Conv2d(in_channels=in_channels, out_channels=in_channels*9, kernel_size=3, stride=1, padding=1)\n",
        "        self.conv2 = nn.Conv2d(in_channels=in_channels*9, out_channels=in_channels*36, kernel_size=3, stride=1, padding=1)\n",
        "        self.dropout1 = nn.Dropout(0.25)\n",
        "        self.dropout2 = nn.Dropout(0.5)\n",
        "        self.fc1 = nn.Linear((in_channels*36)* 9 * 9, 120)\n",
        "        self.fc2 = nn.Linear(120, num_classes)\n",
        "\n",
        "    def forward(self, x):\n",
        "        x = F.relu(self.conv1(x))\n",
        "        x = F.relu(self.conv2(x))\n",
        "        #x = self.dropout1(x)\n",
        "        x = x.reshape(x.shape[0], -1)\n",
        "        x = self.fc1(x)\n",
        "        x = F.relu(x)\n",
        "        #x = self.dropout2(x)\n",
        "        x = self.fc2(x)\n",
        "        output = F.log_softmax(x, dim=1)\n",
        "        return output\n",
        "\n",
        "    def convnet(self, x):\n",
        "        x = F.relu(self.conv1(x))\n",
        "        x = F.relu(self.conv2(x))\n",
        "        #x = self.dropout1(x)\n",
        "        x = x.reshape(x.shape[0], -1)\n",
        "        return x\n",
        "\n",
        "class MyDataset(Dataset):\n",
        "    def __init__(self, data, targets, transform=None):\n",
        "        self.data = data\n",
        "        self.targets = targets\n",
        "        self.transform = transform\n",
        "        \n",
        "    def __getitem__(self, index):\n",
        "        x = self.data[index]\n",
        "        y = self.targets[index]\n",
        "        \n",
        "        if self.transform:\n",
        "            x = self.transform(x)\n",
        "        \n",
        "        return x, y\n",
        "    \n",
        "    def __len__(self):\n",
        "        return len(self.data)\n",
        "\n",
        "# Train Network\n",
        "def train(model, device, train_loader, optimizer, epoch):\n",
        "    model.train()\n",
        "    for batch_idx, (data, target) in enumerate(train_loader):\n",
        "        data, target = data.to(device), target.to(device)\n",
        "        optimizer.zero_grad()\n",
        "        output = model(data)\n",
        "        loss = F.nll_loss(output, target)\n",
        "        loss.backward()\n",
        "        optimizer.step()\n",
        "        if batch_idx % log_interval == 0:\n",
        "            print('Train Epoch: {} [{}/{} ({:.0f}%)]\\tLoss: {:.6f}'.format(\n",
        "                epoch, batch_idx * len(data), len(train_loader.dataset),\n",
        "                100. * batch_idx / len(train_loader), loss.item()))\n",
        "            if dry_run:\n",
        "                break\n",
        "\n",
        "# Test Network\n",
        "def test(model, device, test_loader):\n",
        "    model.eval()\n",
        "    test_loss = 0\n",
        "    correct = 0\n",
        "    with torch.no_grad():\n",
        "        for data, target in test_loader:\n",
        "            data, target = data.to(device), target.to(device)\n",
        "            output = model(data)\n",
        "            test_loss += F.nll_loss(output, target, reduction='sum').item()  # sum up batch loss\n",
        "            pred = output.argmax(dim=1, keepdim=True)  # get the index of the max log-probability\n",
        "            correct += pred.eq(target.view_as(pred)).sum().item()\n",
        "\n",
        "    test_loss /= len(test_loader.dataset)\n",
        "\n",
        "    print('\\nTest set: Average loss: {:.4f}, Accuracy: {}/{} ({:.0f}%)\\n'.format(\n",
        "        test_loss, correct, len(test_loader.dataset),\n",
        "        100. * correct / len(test_loader.dataset)))\n",
        "\n",
        "# Check accuracy on training & test to see how good our model\n",
        "def check_accuracy(loader, model):\n",
        "    num_correct = 0\n",
        "    num_samples = 0\n",
        "    model.eval()\n",
        "\n",
        "    with torch.no_grad():\n",
        "        for x, y in loader:\n",
        "            x = x.to(device=device)\n",
        "            y = y.to(device=device)\n",
        "\n",
        "            scores = model(x)\n",
        "            _, predictions = scores.max(1)\n",
        "            num_correct += (predictions == y).sum()\n",
        "            num_samples += predictions.size(0)\n",
        "\n",
        "        print(f\"Got {num_correct} / {num_samples} with accuracy {float(num_correct)/float(num_samples)*100:.2f}\")\n",
        "    model.train()\n",
        "    #return num_correct/num_samples"
      ],
      "execution_count": null,
      "outputs": []
    },
    {
      "cell_type": "markdown",
      "metadata": {
        "id": "zlaD9mCcxDsj"
      },
      "source": [
        "Salinas-A version:"
      ]
    },
    {
      "cell_type": "code",
      "metadata": {
        "colab": {
          "base_uri": "https://localhost:8080/"
        },
        "id": "2spnRB4MCxGw",
        "outputId": "43bacad8-ed93-4c63-d45e-53686f332bcf"
      },
      "source": [
        "from sklearn.model_selection import train_test_split\n",
        "from sklearn.decomposition import PCA\n",
        "\n",
        "# Hyperparameters\n",
        "in_channels = 10\n",
        "num_classes = 7\n",
        "learning_rate = 0.001\n",
        "batch_size = 32\n",
        "num_epochs = 20\n",
        "log_interval = 20\n",
        "dry_run = False\n",
        "cuda = True\n",
        "kwargs = {'num_workers': 1, 'pin_memory': True} if cuda else {}\n",
        "\n",
        "# PCA on Salinas-A, code from Jason - 10 variables capture 99.96% of data\n",
        "pca = PCA(n_components=10)\n",
        "num_pixels = image.shape[0]*image.shape[1]\n",
        "reduced_image = pca.fit_transform(image.reshape(num_pixels, image.shape[2]))\n",
        "reduced_image = reduced_image.reshape(image.shape[0], image.shape[1], 10)\n",
        "\n",
        "#Load SalinasA data into (7138, 10, 9, 9) shape\n",
        "salinas_patches = NonLocalMeans(reduced_image, 4)\n",
        "\n",
        "#Splitting data into training and testing\n",
        "train_data, test_data, train_labels, test_labels = train_test_split(salinas_patches, labels, test_size = 0.3)\n",
        "\n",
        "#Convert to torch dataloaders\n",
        "train_A_data = torch.from_numpy(train_data).float()\n",
        "test_A_data = torch.from_numpy(test_data).float()\n",
        "train_A_labels = torch.from_numpy(train_labels).long()\n",
        "test_A_labels = torch.from_numpy(test_labels).long()\n",
        "\n",
        "salinasA_train = MyDataset(train_A_data, train_A_labels) \n",
        "train_loader = DataLoader(salinasA_train, batch_size = batch_size, shuffle = True, **kwargs)\n",
        "\n",
        "salinasA_test = MyDataset(test_A_data, test_A_labels) \n",
        "test_loader = DataLoader(salinasA_test, batch_size = batch_size, shuffle = True, **kwargs)"
      ],
      "execution_count": null,
      "outputs": [
        {
          "output_type": "stream",
          "text": [
            "feature vector shape:  (7138, 10, 9, 9)\n"
          ],
          "name": "stdout"
        }
      ]
    },
    {
      "cell_type": "code",
      "metadata": {
        "id": "QAHJ4Bu3IStm"
      },
      "source": [
        "#GPU settings\n",
        "use_cuda = cuda and torch.cuda.is_available()\n",
        "device = torch.device(\"cuda\" if use_cuda else \"cpu\")\n",
        "\n",
        "# Initialize network\n",
        "model = CNN().to(device)\n",
        "optimizer = optim.Adadelta(model.parameters(), lr = learning_rate)\n",
        "scheduler = StepLR(optimizer, step_size=1, gamma = 0.7)"
      ],
      "execution_count": null,
      "outputs": []
    },
    {
      "cell_type": "code",
      "metadata": {
        "id": "Hh0TNes32sqj"
      },
      "source": [
        "SA_unrun = torch.from_numpy(salinas_patches).float()\n",
        "with torch.no_grad():\n",
        "    Y = model.convnet(SA_unrun.to(device)).cpu().numpy()\n",
        "    np.savez_compressed('SalinasA_noCNN.npz',data=Y,labels=labels)"
      ],
      "execution_count": null,
      "outputs": []
    },
    {
      "cell_type": "code",
      "metadata": {
        "colab": {
          "base_uri": "https://localhost:8080/"
        },
        "id": "IOeQ7JDm3DZM",
        "outputId": "2e2d7db8-00a8-4b02-f15d-c4418d4961c8"
      },
      "source": [
        "V = np.load('SalinasA_noCNN.npz')\n",
        "SA_unrun_data = V['data']\n",
        "labels = V['labels']\n",
        "\n",
        "#PCA on Salinas-A CNN encoded data\n",
        "pca = PCA(n_components=150)\n",
        "num_pixels = SA_unrun_data.shape[0]\n",
        "X = pca.fit_transform(SA_unrun_data)\n",
        "print(X.shape)\n",
        "\n",
        "W_nocnn = gl.knn_weight_matrix(20,data=X, metric = 'angular');"
      ],
      "execution_count": null,
      "outputs": [
        {
          "output_type": "stream",
          "text": [
            "(7138, 150)\n",
            "kNN search with Annoy approximate nearest neighbor package...\n",
            "Progress: |██████████████████████████████████████████████████| 100.0% Complete\n"
          ],
          "name": "stdout"
        }
      ]
    },
    {
      "cell_type": "code",
      "metadata": {
        "colab": {
          "base_uri": "https://localhost:8080/",
          "height": 319
        },
        "id": "Zc6SzwG43WiT",
        "outputId": "8398fab0-ee9a-4113-92e9-4fa7facca282"
      },
      "source": [
        "W_raw = W\n",
        "\n",
        "#Run Laplace learning\n",
        "labels_raw = gl.graph_ssl(W_raw,train_ind,train_labels,algorithm='laplace')\n",
        "labels_nocnn = gl.graph_ssl(W_nocnn,train_ind,train_labels,algorithm='laplace')\n",
        "\n",
        "#Print accuracy\n",
        "print('Using %d labels per class'%int(len(train_ind)/7))\n",
        "print('Accuracy using raw pixel values: %.2f'%gl.accuracy(labels_raw,labels,len(train_ind)))\n",
        "print('Accuracy using no training on CNN: %.2f'%gl.accuracy(labels_nocnn,labels,len(train_ind)))\n",
        "\n",
        "# Results\n",
        "shownoCNN = labels_nocnn.reshape(83, 86)\n",
        "plt.imshow(shownoCNN)\n",
        "plt.show(block = True)"
      ],
      "execution_count": null,
      "outputs": [
        {
          "output_type": "stream",
          "text": [
            "Using 30 labels per class\n",
            "Accuracy using raw pixel values: 79.21\n",
            "Accuracy using no training on CNN: 91.25\n"
          ],
          "name": "stdout"
        },
        {
          "output_type": "display_data",
          "data": {
            "image/png": "[encoded data removed]",
            "text/plain": [
              "<Figure size 432x288 with 1 Axes>"
            ]
          },
          "metadata": {
            "tags": [],
            "needs_background": "light"
          }
        }
      ]
    },
    {
      "cell_type": "code",
      "metadata": {
        "colab": {
          "base_uri": "https://localhost:8080/"
        },
        "id": "Gx5XOPB3IXXT",
        "outputId": "5c729dab-51bc-4b4a-b74c-e7a4c003a2ce"
      },
      "source": [
        "#Main training loop\n",
        "for epoch in range(1, num_epochs + 1):\n",
        "  train(model, device, train_loader, optimizer, epoch)\n",
        "  test(model, device, test_loader)\n",
        "  scheduler.step()\n",
        "\n",
        "check_accuracy(train_loader, model)\n",
        "check_accuracy(test_loader, model)\n",
        "\n",
        "#Save model\n",
        "torch.save(model.state_dict(), 'Salinas_cnn.pt')\n",
        "\n",
        "#Encode the dataset and save to npz file\n",
        "SA_data = torch.from_numpy(salinas_patches).float()\n",
        "\n",
        "model.eval()\n",
        "with torch.no_grad():\n",
        "    Y = model.convnet(SA_data.to(device)).cpu().numpy()\n",
        "    np.savez_compressed('SalinasA_cnn.npz',data=Y,labels=labels)"
      ],
      "execution_count": null,
      "outputs": [
        {
          "output_type": "stream",
          "text": [
            "Train Epoch: 1 [0/4996 (0%)]\tLoss: 2.001663\n",
            "Train Epoch: 1 [640/4996 (13%)]\tLoss: 1.661288\n",
            "Train Epoch: 1 [1280/4996 (25%)]\tLoss: 1.500719\n",
            "Train Epoch: 1 [1920/4996 (38%)]\tLoss: 1.151530\n",
            "Train Epoch: 1 [2560/4996 (51%)]\tLoss: 1.246095\n",
            "Train Epoch: 1 [3200/4996 (64%)]\tLoss: 1.157336\n",
            "Train Epoch: 1 [3840/4996 (76%)]\tLoss: 0.968842\n",
            "Train Epoch: 1 [4480/4996 (89%)]\tLoss: 0.847587\n",
            "\n",
            "Test set: Average loss: 0.8171, Accuracy: 1762/2142 (82%)\n",
            "\n",
            "Train Epoch: 2 [0/4996 (0%)]\tLoss: 0.700940\n",
            "Train Epoch: 2 [640/4996 (13%)]\tLoss: 0.721074\n",
            "Train Epoch: 2 [1280/4996 (25%)]\tLoss: 0.634219\n",
            "Train Epoch: 2 [1920/4996 (38%)]\tLoss: 0.752927\n",
            "Train Epoch: 2 [2560/4996 (51%)]\tLoss: 0.616912\n",
            "Train Epoch: 2 [3200/4996 (64%)]\tLoss: 0.565322\n",
            "Train Epoch: 2 [3840/4996 (76%)]\tLoss: 0.611603\n",
            "Train Epoch: 2 [4480/4996 (89%)]\tLoss: 0.678035\n",
            "\n",
            "Test set: Average loss: 0.5831, Accuracy: 1884/2142 (88%)\n",
            "\n",
            "Train Epoch: 3 [0/4996 (0%)]\tLoss: 0.645629\n",
            "Train Epoch: 3 [640/4996 (13%)]\tLoss: 0.517412\n",
            "Train Epoch: 3 [1280/4996 (25%)]\tLoss: 0.485582\n",
            "Train Epoch: 3 [1920/4996 (38%)]\tLoss: 0.576369\n",
            "Train Epoch: 3 [2560/4996 (51%)]\tLoss: 0.484789\n",
            "Train Epoch: 3 [3200/4996 (64%)]\tLoss: 0.526204\n",
            "Train Epoch: 3 [3840/4996 (76%)]\tLoss: 0.359409\n",
            "Train Epoch: 3 [4480/4996 (89%)]\tLoss: 0.643481\n",
            "\n",
            "Test set: Average loss: 0.4858, Accuracy: 1961/2142 (92%)\n",
            "\n",
            "Train Epoch: 4 [0/4996 (0%)]\tLoss: 0.510657\n",
            "Train Epoch: 4 [640/4996 (13%)]\tLoss: 0.531846\n",
            "Train Epoch: 4 [1280/4996 (25%)]\tLoss: 0.576234\n",
            "Train Epoch: 4 [1920/4996 (38%)]\tLoss: 0.467324\n",
            "Train Epoch: 4 [2560/4996 (51%)]\tLoss: 0.413478\n",
            "Train Epoch: 4 [3200/4996 (64%)]\tLoss: 0.400251\n",
            "Train Epoch: 4 [3840/4996 (76%)]\tLoss: 0.334750\n",
            "Train Epoch: 4 [4480/4996 (89%)]\tLoss: 0.431206\n",
            "\n",
            "Test set: Average loss: 0.4326, Accuracy: 1967/2142 (92%)\n",
            "\n",
            "Train Epoch: 5 [0/4996 (0%)]\tLoss: 0.400303\n",
            "Train Epoch: 5 [640/4996 (13%)]\tLoss: 0.397186\n",
            "Train Epoch: 5 [1280/4996 (25%)]\tLoss: 0.298317\n",
            "Train Epoch: 5 [1920/4996 (38%)]\tLoss: 0.381484\n",
            "Train Epoch: 5 [2560/4996 (51%)]\tLoss: 0.424631\n",
            "Train Epoch: 5 [3200/4996 (64%)]\tLoss: 0.514436\n",
            "Train Epoch: 5 [3840/4996 (76%)]\tLoss: 0.318829\n",
            "Train Epoch: 5 [4480/4996 (89%)]\tLoss: 0.602760\n",
            "\n",
            "Test set: Average loss: 0.4029, Accuracy: 1984/2142 (93%)\n",
            "\n",
            "Train Epoch: 6 [0/4996 (0%)]\tLoss: 0.419653\n",
            "Train Epoch: 6 [640/4996 (13%)]\tLoss: 0.416161\n",
            "Train Epoch: 6 [1280/4996 (25%)]\tLoss: 0.333258\n",
            "Train Epoch: 6 [1920/4996 (38%)]\tLoss: 0.429477\n",
            "Train Epoch: 6 [2560/4996 (51%)]\tLoss: 0.387927\n",
            "Train Epoch: 6 [3200/4996 (64%)]\tLoss: 0.310562\n",
            "Train Epoch: 6 [3840/4996 (76%)]\tLoss: 0.418547\n",
            "Train Epoch: 6 [4480/4996 (89%)]\tLoss: 0.397981\n",
            "\n",
            "Test set: Average loss: 0.3844, Accuracy: 1992/2142 (93%)\n",
            "\n",
            "Train Epoch: 7 [0/4996 (0%)]\tLoss: 0.360665\n",
            "Train Epoch: 7 [640/4996 (13%)]\tLoss: 0.258204\n",
            "Train Epoch: 7 [1280/4996 (25%)]\tLoss: 0.362520\n",
            "Train Epoch: 7 [1920/4996 (38%)]\tLoss: 0.322134\n",
            "Train Epoch: 7 [2560/4996 (51%)]\tLoss: 0.325376\n",
            "Train Epoch: 7 [3200/4996 (64%)]\tLoss: 0.499902\n",
            "Train Epoch: 7 [3840/4996 (76%)]\tLoss: 0.386992\n",
            "Train Epoch: 7 [4480/4996 (89%)]\tLoss: 0.397118\n",
            "\n",
            "Test set: Average loss: 0.3721, Accuracy: 1992/2142 (93%)\n",
            "\n",
            "Train Epoch: 8 [0/4996 (0%)]\tLoss: 0.295139\n",
            "Train Epoch: 8 [640/4996 (13%)]\tLoss: 0.335655\n",
            "Train Epoch: 8 [1280/4996 (25%)]\tLoss: 0.300004\n",
            "Train Epoch: 8 [1920/4996 (38%)]\tLoss: 0.369420\n",
            "Train Epoch: 8 [2560/4996 (51%)]\tLoss: 0.372521\n",
            "Train Epoch: 8 [3200/4996 (64%)]\tLoss: 0.256399\n",
            "Train Epoch: 8 [3840/4996 (76%)]\tLoss: 0.423044\n",
            "Train Epoch: 8 [4480/4996 (89%)]\tLoss: 0.264615\n",
            "\n",
            "Test set: Average loss: 0.3645, Accuracy: 1996/2142 (93%)\n",
            "\n",
            "Train Epoch: 9 [0/4996 (0%)]\tLoss: 0.261926\n",
            "Train Epoch: 9 [640/4996 (13%)]\tLoss: 0.279387\n",
            "Train Epoch: 9 [1280/4996 (25%)]\tLoss: 0.380670\n",
            "Train Epoch: 9 [1920/4996 (38%)]\tLoss: 0.336207\n",
            "Train Epoch: 9 [2560/4996 (51%)]\tLoss: 0.295022\n",
            "Train Epoch: 9 [3200/4996 (64%)]\tLoss: 0.312883\n",
            "Train Epoch: 9 [3840/4996 (76%)]\tLoss: 0.302188\n",
            "Train Epoch: 9 [4480/4996 (89%)]\tLoss: 0.359399\n",
            "\n",
            "Test set: Average loss: 0.3589, Accuracy: 1997/2142 (93%)\n",
            "\n",
            "Train Epoch: 10 [0/4996 (0%)]\tLoss: 0.444537\n",
            "Train Epoch: 10 [640/4996 (13%)]\tLoss: 0.443487\n",
            "Train Epoch: 10 [1280/4996 (25%)]\tLoss: 0.346941\n",
            "Train Epoch: 10 [1920/4996 (38%)]\tLoss: 0.377257\n",
            "Train Epoch: 10 [2560/4996 (51%)]\tLoss: 0.312225\n",
            "Train Epoch: 10 [3200/4996 (64%)]\tLoss: 0.325298\n",
            "Train Epoch: 10 [3840/4996 (76%)]\tLoss: 0.279497\n",
            "Train Epoch: 10 [4480/4996 (89%)]\tLoss: 0.396686\n",
            "\n",
            "Test set: Average loss: 0.3556, Accuracy: 1999/2142 (93%)\n",
            "\n",
            "Train Epoch: 11 [0/4996 (0%)]\tLoss: 0.290869\n",
            "Train Epoch: 11 [640/4996 (13%)]\tLoss: 0.381712\n",
            "Train Epoch: 11 [1280/4996 (25%)]\tLoss: 0.377025\n",
            "Train Epoch: 11 [1920/4996 (38%)]\tLoss: 0.371576\n",
            "Train Epoch: 11 [2560/4996 (51%)]\tLoss: 0.386755\n",
            "Train Epoch: 11 [3200/4996 (64%)]\tLoss: 0.339027\n",
            "Train Epoch: 11 [3840/4996 (76%)]\tLoss: 0.460504\n",
            "Train Epoch: 11 [4480/4996 (89%)]\tLoss: 0.385151\n",
            "\n",
            "Test set: Average loss: 0.3531, Accuracy: 2000/2142 (93%)\n",
            "\n",
            "Train Epoch: 12 [0/4996 (0%)]\tLoss: 0.365164\n",
            "Train Epoch: 12 [640/4996 (13%)]\tLoss: 0.391888\n",
            "Train Epoch: 12 [1280/4996 (25%)]\tLoss: 0.377850\n",
            "Train Epoch: 12 [1920/4996 (38%)]\tLoss: 0.289400\n",
            "Train Epoch: 12 [2560/4996 (51%)]\tLoss: 0.249849\n",
            "Train Epoch: 12 [3200/4996 (64%)]\tLoss: 0.270254\n",
            "Train Epoch: 12 [3840/4996 (76%)]\tLoss: 0.564686\n",
            "Train Epoch: 12 [4480/4996 (89%)]\tLoss: 0.276075\n",
            "\n",
            "Test set: Average loss: 0.3514, Accuracy: 1999/2142 (93%)\n",
            "\n",
            "Train Epoch: 13 [0/4996 (0%)]\tLoss: 0.290190\n",
            "Train Epoch: 13 [640/4996 (13%)]\tLoss: 0.276552\n",
            "Train Epoch: 13 [1280/4996 (25%)]\tLoss: 0.345218\n",
            "Train Epoch: 13 [1920/4996 (38%)]\tLoss: 0.375982\n",
            "Train Epoch: 13 [2560/4996 (51%)]\tLoss: 0.292791\n",
            "Train Epoch: 13 [3200/4996 (64%)]\tLoss: 0.337847\n",
            "Train Epoch: 13 [3840/4996 (76%)]\tLoss: 0.332381\n",
            "Train Epoch: 13 [4480/4996 (89%)]\tLoss: 0.353945\n",
            "\n",
            "Test set: Average loss: 0.3502, Accuracy: 2001/2142 (93%)\n",
            "\n",
            "Train Epoch: 14 [0/4996 (0%)]\tLoss: 0.259065\n",
            "Train Epoch: 14 [640/4996 (13%)]\tLoss: 0.417096\n",
            "Train Epoch: 14 [1280/4996 (25%)]\tLoss: 0.315064\n",
            "Train Epoch: 14 [1920/4996 (38%)]\tLoss: 0.385397\n",
            "Train Epoch: 14 [2560/4996 (51%)]\tLoss: 0.289792\n",
            "Train Epoch: 14 [3200/4996 (64%)]\tLoss: 0.317504\n",
            "Train Epoch: 14 [3840/4996 (76%)]\tLoss: 0.426319\n",
            "Train Epoch: 14 [4480/4996 (89%)]\tLoss: 0.444634\n",
            "\n",
            "Test set: Average loss: 0.3495, Accuracy: 1999/2142 (93%)\n",
            "\n",
            "Train Epoch: 15 [0/4996 (0%)]\tLoss: 0.331308\n",
            "Train Epoch: 15 [640/4996 (13%)]\tLoss: 0.358713\n",
            "Train Epoch: 15 [1280/4996 (25%)]\tLoss: 0.418467\n",
            "Train Epoch: 15 [1920/4996 (38%)]\tLoss: 0.385248\n",
            "Train Epoch: 15 [2560/4996 (51%)]\tLoss: 0.329726\n",
            "Train Epoch: 15 [3200/4996 (64%)]\tLoss: 0.329471\n",
            "Train Epoch: 15 [3840/4996 (76%)]\tLoss: 0.481882\n",
            "Train Epoch: 15 [4480/4996 (89%)]\tLoss: 0.283682\n",
            "\n",
            "Test set: Average loss: 0.3489, Accuracy: 2000/2142 (93%)\n",
            "\n",
            "Train Epoch: 16 [0/4996 (0%)]\tLoss: 0.352443\n",
            "Train Epoch: 16 [640/4996 (13%)]\tLoss: 0.359311\n",
            "Train Epoch: 16 [1280/4996 (25%)]\tLoss: 0.404742\n",
            "Train Epoch: 16 [1920/4996 (38%)]\tLoss: 0.290675\n",
            "Train Epoch: 16 [2560/4996 (51%)]\tLoss: 0.264579\n",
            "Train Epoch: 16 [3200/4996 (64%)]\tLoss: 0.350321\n",
            "Train Epoch: 16 [3840/4996 (76%)]\tLoss: 0.362122\n",
            "Train Epoch: 16 [4480/4996 (89%)]\tLoss: 0.285783\n",
            "\n",
            "Test set: Average loss: 0.3485, Accuracy: 2000/2142 (93%)\n",
            "\n",
            "Train Epoch: 17 [0/4996 (0%)]\tLoss: 0.399074\n",
            "Train Epoch: 17 [640/4996 (13%)]\tLoss: 0.258318\n",
            "Train Epoch: 17 [1280/4996 (25%)]\tLoss: 0.394200\n",
            "Train Epoch: 17 [1920/4996 (38%)]\tLoss: 0.343880\n",
            "Train Epoch: 17 [2560/4996 (51%)]\tLoss: 0.344577\n",
            "Train Epoch: 17 [3200/4996 (64%)]\tLoss: 0.330427\n",
            "Train Epoch: 17 [3840/4996 (76%)]\tLoss: 0.443040\n",
            "Train Epoch: 17 [4480/4996 (89%)]\tLoss: 0.289584\n",
            "\n",
            "Test set: Average loss: 0.3482, Accuracy: 2001/2142 (93%)\n",
            "\n",
            "Train Epoch: 18 [0/4996 (0%)]\tLoss: 0.400177\n",
            "Train Epoch: 18 [640/4996 (13%)]\tLoss: 0.278747\n",
            "Train Epoch: 18 [1280/4996 (25%)]\tLoss: 0.316615\n",
            "Train Epoch: 18 [1920/4996 (38%)]\tLoss: 0.368836\n",
            "Train Epoch: 18 [2560/4996 (51%)]\tLoss: 0.199231\n",
            "Train Epoch: 18 [3200/4996 (64%)]\tLoss: 0.208254\n",
            "Train Epoch: 18 [3840/4996 (76%)]\tLoss: 0.365656\n",
            "Train Epoch: 18 [4480/4996 (89%)]\tLoss: 0.336434\n",
            "\n",
            "Test set: Average loss: 0.3480, Accuracy: 2001/2142 (93%)\n",
            "\n",
            "Train Epoch: 19 [0/4996 (0%)]\tLoss: 0.373705\n",
            "Train Epoch: 19 [640/4996 (13%)]\tLoss: 0.368318\n",
            "Train Epoch: 19 [1280/4996 (25%)]\tLoss: 0.347016\n",
            "Train Epoch: 19 [1920/4996 (38%)]\tLoss: 0.381440\n",
            "Train Epoch: 19 [2560/4996 (51%)]\tLoss: 0.325320\n",
            "Train Epoch: 19 [3200/4996 (64%)]\tLoss: 0.344392\n",
            "Train Epoch: 19 [3840/4996 (76%)]\tLoss: 0.336449\n",
            "Train Epoch: 19 [4480/4996 (89%)]\tLoss: 0.397589\n",
            "\n",
            "Test set: Average loss: 0.3479, Accuracy: 2001/2142 (93%)\n",
            "\n",
            "Train Epoch: 20 [0/4996 (0%)]\tLoss: 0.292100\n",
            "Train Epoch: 20 [640/4996 (13%)]\tLoss: 0.365465\n",
            "Train Epoch: 20 [1280/4996 (25%)]\tLoss: 0.303864\n",
            "Train Epoch: 20 [1920/4996 (38%)]\tLoss: 0.285129\n",
            "Train Epoch: 20 [2560/4996 (51%)]\tLoss: 0.353064\n",
            "Train Epoch: 20 [3200/4996 (64%)]\tLoss: 0.245072\n",
            "Train Epoch: 20 [3840/4996 (76%)]\tLoss: 0.448848\n",
            "Train Epoch: 20 [4480/4996 (89%)]\tLoss: 0.273916\n",
            "\n",
            "Test set: Average loss: 0.3478, Accuracy: 2001/2142 (93%)\n",
            "\n",
            "Got 4690 / 4996 with accuracy 93.88\n",
            "Got 2001 / 2142 with accuracy 93.42\n"
          ],
          "name": "stdout"
        }
      ]
    },
    {
      "cell_type": "code",
      "metadata": {
        "colab": {
          "base_uri": "https://localhost:8080/"
        },
        "id": "kytN5nKUw6rn",
        "outputId": "8a1d46e5-e023-455f-9279-7e1a0f13128e"
      },
      "source": [
        "#Load labels, knndata, and build 10-nearest neighbor weight matrix\n",
        "W_raw = W\n",
        "\n",
        "#Variational autoencoder weight matrix (can use commented line below, \n",
        "#but we're showing how to use the embedding computed above)\n",
        "M = np.load('SalinasA_cnn.npz')\n",
        "SA_data = M['data']\n",
        "print(SA_data.shape)\n",
        "labels = M['labels']\n",
        "\n",
        "#PCA on Salinas-A CNN encoded data\n",
        "pca = PCA(n_components=150)\n",
        "num_pixels = SA_data.shape[0]\n",
        "reduced_SA = pca.fit_transform(SA_data)\n",
        "print(reduced_SA.shape)\n",
        "\n",
        "W_cnn = gl.knn_weight_matrix(20,data=reduced_SA, metric = 'angular');"
      ],
      "execution_count": null,
      "outputs": [
        {
          "output_type": "stream",
          "text": [
            "(7138, 29160)\n",
            "(7138, 150)\n",
            "kNN search with Annoy approximate nearest neighbor package...\n",
            "Progress: |██████████████████████████████████████████████████| 100.0% Complete\n"
          ],
          "name": "stdout"
        }
      ]
    },
    {
      "cell_type": "code",
      "metadata": {
        "colab": {
          "base_uri": "https://localhost:8080/",
          "height": 319
        },
        "id": "MA1whn4ww9dh",
        "outputId": "01f64617-0628-4e64-e3ba-e8267987c155"
      },
      "source": [
        "#Run Laplace learning\n",
        "labels_raw = gl.graph_ssl(W_raw,train_ind,train_labels,algorithm='laplace')\n",
        "labels_cnn = gl.graph_ssl(W_cnn,train_ind,train_labels,algorithm='laplace')\n",
        "\n",
        "#Print accuracy\n",
        "print('Using %d labels per class'%int(len(train_ind)/7))\n",
        "print('Accuracy using raw pixel values: %.2f'%gl.accuracy(labels_raw,labels,len(train_ind)))\n",
        "print('Accuracy using CNN: %.2f'%gl.accuracy(labels_cnn,labels,len(train_ind)))\n",
        "\n",
        "# Results\n",
        "showCNN = labels_cnn.reshape(83, 86)\n",
        "plt.imshow(showCNN)\n",
        "plt.show(block = True)"
      ],
      "execution_count": null,
      "outputs": [
        {
          "output_type": "stream",
          "text": [
            "Using 30 labels per class\n",
            "Accuracy using raw pixel values: 79.21\n",
            "Accuracy using CNN: 91.22\n"
          ],
          "name": "stdout"
        },
        {
          "output_type": "display_data",
          "data": {
            "image/png": "[encoded data removed]",
            "text/plain": [
              "<Figure size 432x288 with 1 Axes>"
            ]
          },
          "metadata": {
            "tags": [],
            "needs_background": "light"
          }
        }
      ]
    },
    {
      "cell_type": "markdown",
      "metadata": {
        "id": "1CQbqk9jqTCM"
      },
      "source": [
        "Salinas version:"
      ]
    },
    {
      "cell_type": "code",
      "metadata": {
        "id": "p8f45jON4WI4"
      },
      "source": [
        "# Hyperparameters\n",
        "in_channels = 10\n",
        "num_classes = 17\n",
        "learning_rate = 0.001\n",
        "batch_size = 64\n",
        "num_epochs = 10\n",
        "log_interval = 200\n",
        "dry_run = False\n",
        "cuda = True\n",
        "kwargs = {'num_workers': 1, 'pin_memory': True} if cuda else {}"
      ],
      "execution_count": null,
      "outputs": []
    },
    {
      "cell_type": "code",
      "metadata": {
        "id": "A84TU2EeqSpP"
      },
      "source": [
        "#Convert to torch dataloaders\n",
        "train_S_data = torch.from_numpy(train_data).float()\n",
        "test_S_data = torch.from_numpy(test_data).float()\n",
        "train_S_labels = torch.from_numpy(train_labels).long()\n",
        "test_S_labels = torch.from_numpy(test_labels).long()\n",
        "\n",
        "salinas_train = MyDataset(train_S_data, train_S_labels) \n",
        "train_loader = DataLoader(salinas_train, batch_size = batch_size, shuffle = True, **kwargs)\n",
        "\n",
        "salinas_test = MyDataset(test_S_data, test_S_labels) \n",
        "test_loader = DataLoader(salinas_test, batch_size = batch_size, shuffle = True, **kwargs)"
      ],
      "execution_count": null,
      "outputs": []
    },
    {
      "cell_type": "code",
      "metadata": {
        "id": "kvx1C80uuJRz"
      },
      "source": [
        "#GPU settings\n",
        "use_cuda = cuda and torch.cuda.is_available()\n",
        "device = torch.device(\"cuda\" if use_cuda else \"cpu\")\n",
        "\n",
        "# Initialize network\n",
        "model = CNN().to(device)\n",
        "optimizer = optim.Adadelta(model.parameters(), lr = learning_rate)\n",
        "scheduler = StepLR(optimizer, step_size=1, gamma = 0.7)"
      ],
      "execution_count": null,
      "outputs": []
    },
    {
      "cell_type": "code",
      "metadata": {
        "id": "QY7qsO5r7XCZ"
      },
      "source": [
        "#Main training loop\n",
        "for epoch in range(1, num_epochs + 1):\n",
        "  train(model, device, train_loader, optimizer, epoch)\n",
        "  test(model, device, test_loader)\n",
        "  scheduler.step()\n",
        "\n",
        "check_accuracy(train_loader, model)\n",
        "check_accuracy(test_loader, model)\n",
        "\n",
        "#Save model\n",
        "torch.save(model.state_dict(), 'Salinas_cnn.pt')"
      ],
      "execution_count": null,
      "outputs": []
    },
    {
      "cell_type": "code",
      "metadata": {
        "id": "rB0VwsH01K8A"
      },
      "source": [
        "#Save encoded data\n",
        "convData = torch.from_numpy(S_data).float()\n",
        "\n",
        "S_data = model.convnet(convData.to(device))\n",
        "\n",
        "W_Scnn = gl.knn_weight_matrix(20,data=S_data, metric = 'angular');\n",
        "labels_Scnn = gl.graph_ssl(W_Scnn,train_ind,train_labels,algorithm='laplace')"
      ],
      "execution_count": null,
      "outputs": []
    },
    {
      "cell_type": "code",
      "metadata": {
        "id": "psN-tZRut0du"
      },
      "source": [
        "print('Using %d labels per class'%int(len(train_ind)/17))\n",
        "print('Accuracy using CNN: %.2f'%gl.accuracy(labels_cnn,labels,len(train_ind)))\n",
        "\n",
        "# Results\n",
        "showSCNN = labels_Scnn.reshape(512, 217)\n",
        "plt.imshow(showSCNN)\n",
        "plt.show(block = True)"
      ],
      "execution_count": null,
      "outputs": []
    },
    {
      "cell_type": "markdown",
      "metadata": {
        "id": "rtBnhcFfN2oZ"
      },
      "source": [
        "# CNN VAE"
      ]
    },
    {
      "cell_type": "code",
      "metadata": {
        "id": "zsJ2SiG9BqZX"
      },
      "source": [
        "# Imports\n",
        "import torch\n",
        "import torchvision # torch package for vision related things\n",
        "import torch.nn.functional as F  # Parameterless functions, like (some) activation functions\n",
        "import torchvision.datasets as datasets  # Standard datasets\n",
        "import torchvision.transforms as transforms  # Transformations we can perform on our dataset for augmentation\n",
        "from torch import optim  # For optimizers like SGD, Adam, etc.\n",
        "from torch import nn  # All neural network modules\n",
        "from torch.utils.data import Dataset, DataLoader  # Gives easier dataset managment by creating mini batches etc.\n",
        "from tqdm import tqdm  # For nice progress bar!\n",
        "from torch.optim.lr_scheduler import StepLR"
      ],
      "execution_count": null,
      "outputs": []
    },
    {
      "cell_type": "code",
      "metadata": {
        "id": "-GNwApitXMHj"
      },
      "source": [
        "import imageio\n",
        "import matplotlib\n",
        "import matplotlib.pyplot as plt\n",
        "from torchvision.utils import save_image\n",
        "from torchvision.utils import make_grid\n",
        "\n",
        "matplotlib.style.use('ggplot')\n",
        "\n",
        "to_pil_image = transforms.ToPILImage()\n",
        "\n",
        "def image_to_vid(images):\n",
        "    imgs = [np.array(to_pil_image(img)) for img in images]\n",
        "    imageio.mimsave('generated_images.gif', imgs)\n",
        "    \n",
        "def save_reconstructed_images(recon_images, epoch):\n",
        "    save_image(recon_images.cpu(), f\"output{epoch}.jpg\")\n",
        "\n",
        "def save_loss_plot(train_loss, valid_loss):\n",
        "    # loss plots\n",
        "    plt.figure(figsize=(10, 7))\n",
        "    plt.plot(train_loss, color='orange', label='train loss')\n",
        "    plt.plot(valid_loss, color='red', label='validataion loss')\n",
        "    plt.xlabel('Epochs')\n",
        "    plt.ylabel('Loss')\n",
        "    plt.legend()\n",
        "    plt.savefig('loss.jpg')\n",
        "    plt.show()"
      ],
      "execution_count": null,
      "outputs": []
    },
    {
      "cell_type": "code",
      "metadata": {
        "id": "DWWyruchPyO2"
      },
      "source": [
        "class MyDataset(Dataset):\n",
        "    def __init__(self, data, targets, transform=None):\n",
        "        self.data = data\n",
        "        self.targets = targets\n",
        "        self.transform = transform\n",
        "        \n",
        "    def __getitem__(self, index):\n",
        "        x = self.data[index]\n",
        "        y = self.targets[index]\n",
        "        \n",
        "        if self.transform:\n",
        "            x = self.transform(x)\n",
        "        \n",
        "        return x, y\n",
        "    \n",
        "    def __len__(self):\n",
        "        return len(self.data)\n",
        "\n",
        "# Loss function (POTENTIALLY CHANGE BCE TO NLL)\n",
        "def final_loss(bce_loss, mu, logvar):\n",
        "    \"\"\"\n",
        "    This function will add the reconstruction loss (BCELoss) and the \n",
        "    KL-Divergence.\n",
        "    KL-Divergence = 0.5 * sum(1 + log(sigma^2) - mu^2 - sigma^2)\n",
        "    :param bce_loss: recontruction loss\n",
        "    :param mu: the mean from the latent vector\n",
        "    :param logvar: log variance from the latent vector\n",
        "    \"\"\"\n",
        "    BCE = bce_loss \n",
        "    KLD = -0.5 * torch.sum(1 + logvar - mu.pow(2) - logvar.exp())\n",
        "    return BCE + KLD\n",
        "\n",
        "# Training function\n",
        "def train(model, dataloader, dataset, device, optimizer, criterion):\n",
        "    model.train()\n",
        "    running_loss = 0.0\n",
        "    counter = 0\n",
        "    for i, (data, _) in enumerate(dataloader):\n",
        "        counter += 1\n",
        "        data = data.to(device)\n",
        "        optimizer.zero_grad()\n",
        "        reconstruction, mu, logvar = model(data)\n",
        "        bce_loss = criterion(reconstruction, data)\n",
        "        loss = final_loss(bce_loss, mu, logvar)\n",
        "        loss.backward()\n",
        "        running_loss += loss.item()\n",
        "        optimizer.step()\n",
        "\n",
        "    train_loss = running_loss / counter \n",
        "    return train_loss\n",
        "\n",
        "# Validation function\n",
        "def validate(model, dataloader, dataset, device, criterion):\n",
        "    model.eval()\n",
        "    running_loss = 0.0\n",
        "    counter = 0\n",
        "    with torch.no_grad():\n",
        "        for i, data in tqdm(enumerate(dataloader), total=int(len(dataset)/dataloader.batch_size)):\n",
        "            counter += 1\n",
        "            data= data[0]\n",
        "            data = data.to(device)\n",
        "            reconstruction, mu, logvar = model(data)\n",
        "            bce_loss = criterion(reconstruction, data)\n",
        "            loss = final_loss(bce_loss, mu, logvar)\n",
        "            running_loss += loss.item()\n",
        "        \n",
        "            # save the last batch input and output of every epoch\n",
        "            if i == int(len(dataset)/dataloader.batch_size) - 1:\n",
        "                recon_images = reconstruction\n",
        "\n",
        "    val_loss = running_loss / counter\n",
        "    return val_loss, recon_images"
      ],
      "execution_count": null,
      "outputs": []
    },
    {
      "cell_type": "code",
      "metadata": {
        "id": "UrhjdFYMN0bo"
      },
      "source": [
        "kernel_size = 3 # (3, 3) kernel\n",
        "init_channels = 40 # initial number of filters\n",
        "image_channels = 10 # Salinas w/ PCA has 10 channels\n",
        "latent_dim = 32 # latent dimension for sampling\n",
        "\n",
        "# define a Conv VAE\n",
        "class ConvVAE(nn.Module):\n",
        "    def __init__(self):\n",
        "        super(ConvVAE, self).__init__()\n",
        " \n",
        "        # encoder\n",
        "        self.enc1 = nn.Conv2d(\n",
        "            in_channels=image_channels, out_channels=init_channels, kernel_size=kernel_size, \n",
        "            stride=1, padding=1\n",
        "        )\n",
        "        self.enc2 = nn.Conv2d(\n",
        "            in_channels=init_channels, out_channels=init_channels*2, kernel_size=kernel_size, \n",
        "            stride=1, padding=1\n",
        "        )\n",
        "        self.enc3 = nn.Conv2d(\n",
        "            in_channels=init_channels*2, out_channels=init_channels*4, kernel_size=kernel_size, \n",
        "            stride=1, padding=1\n",
        "        )\n",
        "        self.enc4 = nn.Conv2d(\n",
        "            in_channels=init_channels*4, out_channels=init_channels*8, kernel_size=kernel_size, \n",
        "            stride=1, padding=1\n",
        "        )\n",
        "        self.dropout1 = nn.Dropout(0.25)\n",
        "        # fully connected layers for learning representations\n",
        "        self.fc1 = nn.Linear((init_channels*8)*9*9, 480)\n",
        "        self.fc_mu = nn.Linear(480, latent_dim)\n",
        "        self.fc_log_var = nn.Linear(480, latent_dim)\n",
        "        self.fc2 = nn.Linear(latent_dim, 480)\n",
        "        # decoder \n",
        "        self.dec1 = nn.ConvTranspose2d(\n",
        "            in_channels=480, out_channels=init_channels*8, kernel_size=kernel_size, \n",
        "            stride=1, padding=0\n",
        "        )\n",
        "        self.dec2 = nn.ConvTranspose2d(\n",
        "            in_channels=init_channels*8, out_channels=init_channels*4, kernel_size=kernel_size, \n",
        "            stride=1, padding=0\n",
        "        )\n",
        "        self.dec3 = nn.ConvTranspose2d(\n",
        "            in_channels=init_channels*4, out_channels=init_channels*2, kernel_size=kernel_size, \n",
        "            stride=1, padding=0\n",
        "        )\n",
        "        self.dec4 = nn.ConvTranspose2d(\n",
        "            in_channels=init_channels*2, out_channels=image_channels, kernel_size=kernel_size, \n",
        "            stride=1, padding=0\n",
        "        )\n",
        "    def reparameterize(self, mu, log_var):\n",
        "        \"\"\"\n",
        "        :param mu: mean from the encoder's latent space\n",
        "        :param log_var: log variance from the encoder's latent space\n",
        "        \"\"\"\n",
        "        std = torch.exp(0.5*log_var) # standard deviation\n",
        "        eps = torch.randn_like(std) # `randn_like` as we need the same size\n",
        "        sample = mu + (eps * std) # sampling\n",
        "        return sample\n",
        " \n",
        "    def forward(self, x):\n",
        "        # encoding\n",
        "        x = F.relu(self.enc1(x))\n",
        "        x = F.relu(self.enc2(x))\n",
        "        x = F.relu(self.enc3(x))\n",
        "        x = F.relu(self.enc4(x))\n",
        "        x = x.reshape(x.shape[0], -1)\n",
        "        hidden = self.fc1(x)\n",
        "        # get `mu` and `log_var`\n",
        "        mu = self.fc_mu(hidden)\n",
        "        log_var = self.fc_log_var(hidden)\n",
        "\n",
        "        # get the latent vector through reparameterization\n",
        "        z = self.reparameterize(mu, log_var)\n",
        "        z = self.fc2(z)\n",
        "        z = z.reshape(-1, 480, 1, 1)\n",
        " \n",
        "        # decoding\n",
        "        x = F.relu(self.dec1(z))\n",
        "        x = F.relu(self.dec2(x))\n",
        "        x = F.relu(self.dec3(x))\n",
        "        reconstruction = torch.sigmoid(self.dec4(x))\n",
        "        return reconstruction, mu, log_var\n",
        "\n",
        "    def encode1(self, x):\n",
        "        x = F.relu(self.enc1(x))\n",
        "        x = F.relu(self.enc2(x))\n",
        "        x = F.relu(self.enc3(x))\n",
        "        x = F.relu(self.enc4(x))\n",
        "        x = self.dropout1(x)\n",
        "        x = x.reshape(x.shape[0], -1)\n",
        "        return x\n"
      ],
      "execution_count": null,
      "outputs": []
    },
    {
      "cell_type": "code",
      "metadata": {
        "colab": {
          "base_uri": "https://localhost:8080/"
        },
        "id": "ZPfxael98BfY",
        "outputId": "fd756ec5-89b5-481c-c28b-012c70130f12"
      },
      "source": [
        "from sklearn.model_selection import train_test_split\n",
        "from sklearn.decomposition import PCA\n",
        "\n",
        "# Hyperparameters\n",
        "num_classes = 7\n",
        "learning_rate = 0.001\n",
        "batch_size = 64\n",
        "num_epochs = 3\n",
        "log_interval = 20\n",
        "dry_run = False\n",
        "cuda = False\n",
        "kwargs = {'num_workers': 1, 'pin_memory': True} if cuda else {}\n",
        "criterion = nn.BCELoss(reduction='sum')\n",
        "\n",
        "# PCA on Salinas, code from Jason - 10 variables capture 99.96% of data\n",
        "pca = PCA(n_components=10)\n",
        "num_pixels = image.shape[0]*image.shape[1]\n",
        "reduced_image = pca.fit_transform(image.reshape(num_pixels, image.shape[2]))\n",
        "reduced_image = reduced_image.reshape(image.shape[0], image.shape[1], 10)\n",
        "\n",
        "#Load SalinasA data into (7138, 10, 9, 9) shape\n",
        "salinas_patches = NonLocalMeans(reduced_image, 4)\n",
        "#Normalize data values\n",
        "salinas_patches = salinas_patches/np.max(salinas_patches)\n",
        "#salinas_patches = (salinas_patches * 255).astype(np.uint8)\n",
        "\n",
        "#Splitting data into training and testing\n",
        "trainData, testData, trainLabels, testLabels = train_test_split(salinas_patches, labels, test_size = 0.3)\n",
        "\n",
        "#Convert to torch dataloaders\n",
        "trainData = torch.from_numpy(trainData).float()\n",
        "testData = torch.from_numpy(testData).float()\n",
        "trainLabels = torch.from_numpy(trainLabels).long()\n",
        "testLabels = torch.from_numpy(testLabels).long()\n",
        "\n",
        "salinasA_train = MyDataset(trainData, trainLabels) \n",
        "trainloader = DataLoader(salinasA_train, batch_size = batch_size, shuffle = True, **kwargs)\n",
        "\n",
        "salinasA_test = MyDataset(testData, testLabels) \n",
        "testloader = DataLoader(salinasA_test, batch_size = batch_size, shuffle = True, **kwargs)"
      ],
      "execution_count": null,
      "outputs": [
        {
          "output_type": "stream",
          "text": [
            "feature vector shape:  (7138, 10, 9, 9)\n"
          ],
          "name": "stdout"
        }
      ]
    },
    {
      "cell_type": "code",
      "metadata": {
        "colab": {
          "base_uri": "https://localhost:8080/",
          "height": 528
        },
        "id": "oX4rpkBqUYLA",
        "outputId": "5c902996-e9ac-4f60-dfcd-4e992fbcea75"
      },
      "source": [
        "#GPU settings\n",
        "use_cuda = cuda and torch.cuda.is_available()\n",
        "device = torch.device(\"cuda\" if use_cuda else \"cpu\")\n",
        "\n",
        "#Initialize network\n",
        "model = ConvVAE().to(device)\n",
        "optimizer = optim.Adadelta(model.parameters(), lr = learning_rate)\n",
        "scheduler = StepLR(optimizer, step_size=1, gamma = 0.7)\n",
        "\n",
        "train_loss = []\n",
        "valid_loss = []\n",
        "\n",
        "#Main training loop\n",
        "for epoch in range(num_epochs):\n",
        "  print(f\"Epoch {epoch+1} of {num_epochs}\")\n",
        "\n",
        "  train_epoch_loss = train(model, trainloader, trainData, device, optimizer, criterion)\n",
        "  valid_epoch_loss, recon_images = validate(model, testloader, testData, device, criterion)\n",
        "  scheduler.step()\n",
        "\n",
        "  train_loss.append(train_epoch_loss)\n",
        "  valid_loss.append(valid_epoch_loss)\n",
        "\n",
        "  print(f\"Train Loss: {train_epoch_loss:.4f}\")\n",
        "  print(f\"Val Loss: {valid_epoch_loss:.4f}\")\n",
        "\n",
        "# save the loss plots to disk\n",
        "save_loss_plot(train_loss, valid_loss)\n",
        "\n",
        "#Save model\n",
        "torch.save(model.state_dict(), 'SalinasA_cvae.pt')\n",
        "\n",
        "CVAE_data = torch.from_numpy(salinas_patches).float()\n",
        "\n",
        "#Encode the dataset and save to npz file\n",
        "with torch.no_grad():\n",
        "    mu = model.encode1(CVAE_data.to(device))\n",
        "    Y = mu.cpu().numpy()\n",
        "    np.savez_compressed('SalinasA_cvae.npz',data=Y,labels=labels)"
      ],
      "execution_count": null,
      "outputs": [
        {
          "output_type": "stream",
          "text": [
            "Epoch 1 of 3\n"
          ],
          "name": "stdout"
        },
        {
          "output_type": "stream",
          "text": [
            "34it [00:06,  4.86it/s]\n"
          ],
          "name": "stderr"
        },
        {
          "output_type": "stream",
          "text": [
            "Train Loss: 35108.6737\n",
            "Val Loss: 34432.8838\n",
            "Epoch 2 of 3\n"
          ],
          "name": "stdout"
        },
        {
          "output_type": "stream",
          "text": [
            "34it [00:06,  4.94it/s]\n"
          ],
          "name": "stderr"
        },
        {
          "output_type": "stream",
          "text": [
            "Train Loss: 19137.6527\n",
            "Val Loss: -129.3693\n",
            "Epoch 3 of 3\n"
          ],
          "name": "stdout"
        },
        {
          "output_type": "error",
          "ename": "KeyboardInterrupt",
          "evalue": "ignored",
          "traceback": [
            "\u001b[0;31m---------------------------------------------------------------------------\u001b[0m",
            "\u001b[0;31mKeyboardInterrupt\u001b[0m                         Traceback (most recent call last)",
            "\u001b[0;32m<ipython-input-81-ae1e3b3eac3a>\u001b[0m in \u001b[0;36m<module>\u001b[0;34m()\u001b[0m\n\u001b[1;32m     15\u001b[0m   \u001b[0mprint\u001b[0m\u001b[0;34m(\u001b[0m\u001b[0;34mf\"Epoch {epoch+1} of {num_epochs}\"\u001b[0m\u001b[0;34m)\u001b[0m\u001b[0;34m\u001b[0m\u001b[0;34m\u001b[0m\u001b[0m\n\u001b[1;32m     16\u001b[0m \u001b[0;34m\u001b[0m\u001b[0m\n\u001b[0;32m---> 17\u001b[0;31m   \u001b[0mtrain_epoch_loss\u001b[0m \u001b[0;34m=\u001b[0m \u001b[0mtrain\u001b[0m\u001b[0;34m(\u001b[0m\u001b[0mmodel\u001b[0m\u001b[0;34m,\u001b[0m \u001b[0mtrainloader\u001b[0m\u001b[0;34m,\u001b[0m \u001b[0mtrainData\u001b[0m\u001b[0;34m,\u001b[0m \u001b[0mdevice\u001b[0m\u001b[0;34m,\u001b[0m \u001b[0moptimizer\u001b[0m\u001b[0;34m,\u001b[0m \u001b[0mcriterion\u001b[0m\u001b[0;34m)\u001b[0m\u001b[0;34m\u001b[0m\u001b[0;34m\u001b[0m\u001b[0m\n\u001b[0m\u001b[1;32m     18\u001b[0m   \u001b[0mvalid_epoch_loss\u001b[0m\u001b[0;34m,\u001b[0m \u001b[0mrecon_images\u001b[0m \u001b[0;34m=\u001b[0m \u001b[0mvalidate\u001b[0m\u001b[0;34m(\u001b[0m\u001b[0mmodel\u001b[0m\u001b[0;34m,\u001b[0m \u001b[0mtestloader\u001b[0m\u001b[0;34m,\u001b[0m \u001b[0mtestData\u001b[0m\u001b[0;34m,\u001b[0m \u001b[0mdevice\u001b[0m\u001b[0;34m,\u001b[0m \u001b[0mcriterion\u001b[0m\u001b[0;34m)\u001b[0m\u001b[0;34m\u001b[0m\u001b[0;34m\u001b[0m\u001b[0m\n\u001b[1;32m     19\u001b[0m   \u001b[0mscheduler\u001b[0m\u001b[0;34m.\u001b[0m\u001b[0mstep\u001b[0m\u001b[0;34m(\u001b[0m\u001b[0;34m)\u001b[0m\u001b[0;34m\u001b[0m\u001b[0;34m\u001b[0m\u001b[0m\n",
            "\u001b[0;32m<ipython-input-60-c88ecf2f09c5>\u001b[0m in \u001b[0;36mtrain\u001b[0;34m(model, dataloader, dataset, device, optimizer, criterion)\u001b[0m\n\u001b[1;32m     40\u001b[0m         \u001b[0mdata\u001b[0m \u001b[0;34m=\u001b[0m \u001b[0mdata\u001b[0m\u001b[0;34m.\u001b[0m\u001b[0mto\u001b[0m\u001b[0;34m(\u001b[0m\u001b[0mdevice\u001b[0m\u001b[0;34m)\u001b[0m\u001b[0;34m\u001b[0m\u001b[0;34m\u001b[0m\u001b[0m\n\u001b[1;32m     41\u001b[0m         \u001b[0moptimizer\u001b[0m\u001b[0;34m.\u001b[0m\u001b[0mzero_grad\u001b[0m\u001b[0;34m(\u001b[0m\u001b[0;34m)\u001b[0m\u001b[0;34m\u001b[0m\u001b[0;34m\u001b[0m\u001b[0m\n\u001b[0;32m---> 42\u001b[0;31m         \u001b[0mreconstruction\u001b[0m\u001b[0;34m,\u001b[0m \u001b[0mmu\u001b[0m\u001b[0;34m,\u001b[0m \u001b[0mlogvar\u001b[0m \u001b[0;34m=\u001b[0m \u001b[0mmodel\u001b[0m\u001b[0;34m(\u001b[0m\u001b[0mdata\u001b[0m\u001b[0;34m)\u001b[0m\u001b[0;34m\u001b[0m\u001b[0;34m\u001b[0m\u001b[0m\n\u001b[0m\u001b[1;32m     43\u001b[0m         \u001b[0mbce_loss\u001b[0m \u001b[0;34m=\u001b[0m \u001b[0mcriterion\u001b[0m\u001b[0;34m(\u001b[0m\u001b[0mreconstruction\u001b[0m\u001b[0;34m,\u001b[0m \u001b[0mdata\u001b[0m\u001b[0;34m)\u001b[0m\u001b[0;34m\u001b[0m\u001b[0;34m\u001b[0m\u001b[0m\n\u001b[1;32m     44\u001b[0m         \u001b[0mloss\u001b[0m \u001b[0;34m=\u001b[0m \u001b[0mfinal_loss\u001b[0m\u001b[0;34m(\u001b[0m\u001b[0mbce_loss\u001b[0m\u001b[0;34m,\u001b[0m \u001b[0mmu\u001b[0m\u001b[0;34m,\u001b[0m \u001b[0mlogvar\u001b[0m\u001b[0;34m)\u001b[0m\u001b[0;34m\u001b[0m\u001b[0;34m\u001b[0m\u001b[0m\n",
            "\u001b[0;32m/usr/local/lib/python3.7/dist-packages/torch/nn/modules/module.py\u001b[0m in \u001b[0;36m_call_impl\u001b[0;34m(self, *input, **kwargs)\u001b[0m\n\u001b[1;32m   1049\u001b[0m         if not (self._backward_hooks or self._forward_hooks or self._forward_pre_hooks or _global_backward_hooks\n\u001b[1;32m   1050\u001b[0m                 or _global_forward_hooks or _global_forward_pre_hooks):\n\u001b[0;32m-> 1051\u001b[0;31m             \u001b[0;32mreturn\u001b[0m \u001b[0mforward_call\u001b[0m\u001b[0;34m(\u001b[0m\u001b[0;34m*\u001b[0m\u001b[0minput\u001b[0m\u001b[0;34m,\u001b[0m \u001b[0;34m**\u001b[0m\u001b[0mkwargs\u001b[0m\u001b[0;34m)\u001b[0m\u001b[0;34m\u001b[0m\u001b[0;34m\u001b[0m\u001b[0m\n\u001b[0m\u001b[1;32m   1052\u001b[0m         \u001b[0;31m# Do not call functions when jit is used\u001b[0m\u001b[0;34m\u001b[0m\u001b[0;34m\u001b[0m\u001b[0;34m\u001b[0m\u001b[0m\n\u001b[1;32m   1053\u001b[0m         \u001b[0mfull_backward_hooks\u001b[0m\u001b[0;34m,\u001b[0m \u001b[0mnon_full_backward_hooks\u001b[0m \u001b[0;34m=\u001b[0m \u001b[0;34m[\u001b[0m\u001b[0;34m]\u001b[0m\u001b[0;34m,\u001b[0m \u001b[0;34m[\u001b[0m\u001b[0;34m]\u001b[0m\u001b[0;34m\u001b[0m\u001b[0;34m\u001b[0m\u001b[0m\n",
            "\u001b[0;32m<ipython-input-61-9e507fa9f112>\u001b[0m in \u001b[0;36mforward\u001b[0;34m(self, x)\u001b[0m\n\u001b[1;32m     63\u001b[0m         \u001b[0mx\u001b[0m \u001b[0;34m=\u001b[0m \u001b[0mF\u001b[0m\u001b[0;34m.\u001b[0m\u001b[0mrelu\u001b[0m\u001b[0;34m(\u001b[0m\u001b[0mself\u001b[0m\u001b[0;34m.\u001b[0m\u001b[0menc1\u001b[0m\u001b[0;34m(\u001b[0m\u001b[0mx\u001b[0m\u001b[0;34m)\u001b[0m\u001b[0;34m)\u001b[0m\u001b[0;34m\u001b[0m\u001b[0;34m\u001b[0m\u001b[0m\n\u001b[1;32m     64\u001b[0m         \u001b[0mx\u001b[0m \u001b[0;34m=\u001b[0m \u001b[0mF\u001b[0m\u001b[0;34m.\u001b[0m\u001b[0mrelu\u001b[0m\u001b[0;34m(\u001b[0m\u001b[0mself\u001b[0m\u001b[0;34m.\u001b[0m\u001b[0menc2\u001b[0m\u001b[0;34m(\u001b[0m\u001b[0mx\u001b[0m\u001b[0;34m)\u001b[0m\u001b[0;34m)\u001b[0m\u001b[0;34m\u001b[0m\u001b[0;34m\u001b[0m\u001b[0m\n\u001b[0;32m---> 65\u001b[0;31m         \u001b[0mx\u001b[0m \u001b[0;34m=\u001b[0m \u001b[0mF\u001b[0m\u001b[0;34m.\u001b[0m\u001b[0mrelu\u001b[0m\u001b[0;34m(\u001b[0m\u001b[0mself\u001b[0m\u001b[0;34m.\u001b[0m\u001b[0menc3\u001b[0m\u001b[0;34m(\u001b[0m\u001b[0mx\u001b[0m\u001b[0;34m)\u001b[0m\u001b[0;34m)\u001b[0m\u001b[0;34m\u001b[0m\u001b[0;34m\u001b[0m\u001b[0m\n\u001b[0m\u001b[1;32m     66\u001b[0m         \u001b[0mx\u001b[0m \u001b[0;34m=\u001b[0m \u001b[0mF\u001b[0m\u001b[0;34m.\u001b[0m\u001b[0mrelu\u001b[0m\u001b[0;34m(\u001b[0m\u001b[0mself\u001b[0m\u001b[0;34m.\u001b[0m\u001b[0menc4\u001b[0m\u001b[0;34m(\u001b[0m\u001b[0mx\u001b[0m\u001b[0;34m)\u001b[0m\u001b[0;34m)\u001b[0m\u001b[0;34m\u001b[0m\u001b[0;34m\u001b[0m\u001b[0m\n\u001b[1;32m     67\u001b[0m         \u001b[0mx\u001b[0m \u001b[0;34m=\u001b[0m \u001b[0mx\u001b[0m\u001b[0;34m.\u001b[0m\u001b[0mreshape\u001b[0m\u001b[0;34m(\u001b[0m\u001b[0mx\u001b[0m\u001b[0;34m.\u001b[0m\u001b[0mshape\u001b[0m\u001b[0;34m[\u001b[0m\u001b[0;36m0\u001b[0m\u001b[0;34m]\u001b[0m\u001b[0;34m,\u001b[0m \u001b[0;34m-\u001b[0m\u001b[0;36m1\u001b[0m\u001b[0;34m)\u001b[0m\u001b[0;34m\u001b[0m\u001b[0;34m\u001b[0m\u001b[0m\n",
            "\u001b[0;32m/usr/local/lib/python3.7/dist-packages/torch/nn/modules/module.py\u001b[0m in \u001b[0;36m_call_impl\u001b[0;34m(self, *input, **kwargs)\u001b[0m\n\u001b[1;32m   1049\u001b[0m         if not (self._backward_hooks or self._forward_hooks or self._forward_pre_hooks or _global_backward_hooks\n\u001b[1;32m   1050\u001b[0m                 or _global_forward_hooks or _global_forward_pre_hooks):\n\u001b[0;32m-> 1051\u001b[0;31m             \u001b[0;32mreturn\u001b[0m \u001b[0mforward_call\u001b[0m\u001b[0;34m(\u001b[0m\u001b[0;34m*\u001b[0m\u001b[0minput\u001b[0m\u001b[0;34m,\u001b[0m \u001b[0;34m**\u001b[0m\u001b[0mkwargs\u001b[0m\u001b[0;34m)\u001b[0m\u001b[0;34m\u001b[0m\u001b[0;34m\u001b[0m\u001b[0m\n\u001b[0m\u001b[1;32m   1052\u001b[0m         \u001b[0;31m# Do not call functions when jit is used\u001b[0m\u001b[0;34m\u001b[0m\u001b[0;34m\u001b[0m\u001b[0;34m\u001b[0m\u001b[0m\n\u001b[1;32m   1053\u001b[0m         \u001b[0mfull_backward_hooks\u001b[0m\u001b[0;34m,\u001b[0m \u001b[0mnon_full_backward_hooks\u001b[0m \u001b[0;34m=\u001b[0m \u001b[0;34m[\u001b[0m\u001b[0;34m]\u001b[0m\u001b[0;34m,\u001b[0m \u001b[0;34m[\u001b[0m\u001b[0;34m]\u001b[0m\u001b[0;34m\u001b[0m\u001b[0;34m\u001b[0m\u001b[0m\n",
            "\u001b[0;32m/usr/local/lib/python3.7/dist-packages/torch/nn/modules/conv.py\u001b[0m in \u001b[0;36mforward\u001b[0;34m(self, input)\u001b[0m\n\u001b[1;32m    441\u001b[0m \u001b[0;34m\u001b[0m\u001b[0m\n\u001b[1;32m    442\u001b[0m     \u001b[0;32mdef\u001b[0m \u001b[0mforward\u001b[0m\u001b[0;34m(\u001b[0m\u001b[0mself\u001b[0m\u001b[0;34m,\u001b[0m \u001b[0minput\u001b[0m\u001b[0;34m:\u001b[0m \u001b[0mTensor\u001b[0m\u001b[0;34m)\u001b[0m \u001b[0;34m->\u001b[0m \u001b[0mTensor\u001b[0m\u001b[0;34m:\u001b[0m\u001b[0;34m\u001b[0m\u001b[0;34m\u001b[0m\u001b[0m\n\u001b[0;32m--> 443\u001b[0;31m         \u001b[0;32mreturn\u001b[0m \u001b[0mself\u001b[0m\u001b[0;34m.\u001b[0m\u001b[0m_conv_forward\u001b[0m\u001b[0;34m(\u001b[0m\u001b[0minput\u001b[0m\u001b[0;34m,\u001b[0m \u001b[0mself\u001b[0m\u001b[0;34m.\u001b[0m\u001b[0mweight\u001b[0m\u001b[0;34m,\u001b[0m \u001b[0mself\u001b[0m\u001b[0;34m.\u001b[0m\u001b[0mbias\u001b[0m\u001b[0;34m)\u001b[0m\u001b[0;34m\u001b[0m\u001b[0;34m\u001b[0m\u001b[0m\n\u001b[0m\u001b[1;32m    444\u001b[0m \u001b[0;34m\u001b[0m\u001b[0m\n\u001b[1;32m    445\u001b[0m \u001b[0;32mclass\u001b[0m \u001b[0mConv3d\u001b[0m\u001b[0;34m(\u001b[0m\u001b[0m_ConvNd\u001b[0m\u001b[0;34m)\u001b[0m\u001b[0;34m:\u001b[0m\u001b[0;34m\u001b[0m\u001b[0;34m\u001b[0m\u001b[0m\n",
            "\u001b[0;32m/usr/local/lib/python3.7/dist-packages/torch/nn/modules/conv.py\u001b[0m in \u001b[0;36m_conv_forward\u001b[0;34m(self, input, weight, bias)\u001b[0m\n\u001b[1;32m    438\u001b[0m                             _pair(0), self.dilation, self.groups)\n\u001b[1;32m    439\u001b[0m         return F.conv2d(input, weight, bias, self.stride,\n\u001b[0;32m--> 440\u001b[0;31m                         self.padding, self.dilation, self.groups)\n\u001b[0m\u001b[1;32m    441\u001b[0m \u001b[0;34m\u001b[0m\u001b[0m\n\u001b[1;32m    442\u001b[0m     \u001b[0;32mdef\u001b[0m \u001b[0mforward\u001b[0m\u001b[0;34m(\u001b[0m\u001b[0mself\u001b[0m\u001b[0;34m,\u001b[0m \u001b[0minput\u001b[0m\u001b[0;34m:\u001b[0m \u001b[0mTensor\u001b[0m\u001b[0;34m)\u001b[0m \u001b[0;34m->\u001b[0m \u001b[0mTensor\u001b[0m\u001b[0;34m:\u001b[0m\u001b[0;34m\u001b[0m\u001b[0;34m\u001b[0m\u001b[0m\n",
            "\u001b[0;31mKeyboardInterrupt\u001b[0m: "
          ]
        }
      ]
    },
    {
      "cell_type": "code",
      "metadata": {
        "colab": {
          "base_uri": "https://localhost:8080/"
        },
        "id": "nVnYOofSW1rm",
        "outputId": "e17f9451-d620-4f20-a695-235d01dbdc8f"
      },
      "source": [
        "#Load labels, knndata, and build 10-nearest neighbor weight matrix\n",
        "W_raw = W\n",
        "\n",
        "#Variational autoencoder weight matrix (can use commented line below, \n",
        "#but we're showing how to use the embedding computed above)\n",
        "C = np.load('SalinasA_cvae.npz')\n",
        "CVAE = C['data']\n",
        "print(CVAE.shape)\n",
        "labels1 = C['labels']\n",
        "\n",
        "#PCA on CVAE encoded data\n",
        "pca = PCA(n_components=100)\n",
        "num_pixels = CVAE.shape[0]\n",
        "reduced_CVAE = pca.fit_transform(CVAE)\n",
        "print(reduced_CVAE.shape)\n",
        "\n",
        "W_cvae = gl.knn_weight_matrix(20,data=reduced_CVAE, metric = 'angular');"
      ],
      "execution_count": null,
      "outputs": [
        {
          "output_type": "stream",
          "text": [
            "(7138, 25920)\n",
            "(7138, 100)\n",
            "kNN search with Annoy approximate nearest neighbor package...\n",
            "Progress: |██████████████████████████████████████████████████| 100.0% Complete\n"
          ],
          "name": "stdout"
        }
      ]
    },
    {
      "cell_type": "code",
      "metadata": {
        "colab": {
          "base_uri": "https://localhost:8080/"
        },
        "id": "Z4Kg-nA5kCLL",
        "outputId": "5227368c-573d-4801-f81a-f8f757b2eccc"
      },
      "source": [
        "with torch.no_grad():\n",
        "  CVAE_2 = model.encode2(CVAE_data.to(device)).cpu().numpy()\n",
        "print(CVAE_2.shape)\n",
        "'''\n",
        "#PCA on CVAE encoded data\n",
        "pca2 = PCA(n_components=100)\n",
        "reduced_CVAE_2 = pca2.fit_transform(CVAE_2)'''\n",
        "\n",
        "W_cvae2 = gl.knn_weight_matrix(20,data=CVAE_2, metric = 'angular');"
      ],
      "execution_count": null,
      "outputs": [
        {
          "output_type": "stream",
          "text": [
            "(7138, 480)\n",
            "kNN search with Annoy approximate nearest neighbor package...\n",
            "Progress: |██████████████████████████████████████████████████| 100.0% Complete\n"
          ],
          "name": "stdout"
        }
      ]
    },
    {
      "cell_type": "code",
      "metadata": {
        "colab": {
          "base_uri": "https://localhost:8080/",
          "height": 587
        },
        "id": "L938RiDrgNRF",
        "outputId": "08288160-9616-4194-be7f-828bf1f46295"
      },
      "source": [
        "#Run Laplace and Poisson learning\n",
        "labels_raw = gl.graph_ssl(W_raw,train_ind,train_labels,algorithm='laplace')\n",
        "labels_cvae = gl.graph_ssl(W_cvae,train_ind,train_labels,algorithm='laplace')\n",
        "labels_cvae2 = gl.graph_ssl(W_cvae2,train_ind,train_labels,algorithm='laplace')\n",
        "\n",
        "#Print accuracy\n",
        "print('Using %d labels per class'%int(len(train_ind)/7))\n",
        "print('Accuracy using raw pixel values: %.2f'%gl.accuracy(labels_raw,labels,len(train_ind)))\n",
        "print('Accuracy using CVAE: %.2f'%gl.accuracy(labels_cvae,labels,len(train_ind)))\n",
        "\n",
        "# Results\n",
        "showCVAE = labels_cvae.reshape(83, 86)\n",
        "plt.imshow(showCVAE)\n",
        "plt.show(block = True)\n",
        "\n",
        "print('Accuracy using CVAE_V2: %.2f'%gl.accuracy(labels_cvae2,labels,len(train_ind)))\n",
        "showCVAE2 = labels_cvae2.reshape(83, 86)\n",
        "plt.imshow(showCVAE2)\n",
        "plt.show(block = True)"
      ],
      "execution_count": null,
      "outputs": [
        {
          "output_type": "stream",
          "text": [
            "Using 10 labels per class\n",
            "Accuracy using raw pixel values: 75.92\n",
            "Accuracy using CVAE: 81.93\n"
          ],
          "name": "stdout"
        },
        {
          "output_type": "display_data",
          "data": {
            "image/png": "[encoded data removed]",
            "text/plain": [
              "<Figure size 432x288 with 1 Axes>"
            ]
          },
          "metadata": {
            "tags": []
          }
        },
        {
          "output_type": "stream",
          "text": [
            "Accuracy using CVAE_V2: 71.55\n"
          ],
          "name": "stdout"
        },
        {
          "output_type": "display_data",
          "data": {
            "image/png": "[encoded data removed]",
            "text/plain": [
              "<Figure size 432x288 with 1 Axes>"
            ]
          },
          "metadata": {
            "tags": []
          }
        }
      ]
    }
  ]
}