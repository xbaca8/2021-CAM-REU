{
  "nbformat": 4,
  "nbformat_minor": 0,
  "metadata": {
    "colab": {
      "name": "MSTAR CVAE.ipynb",
      "provenance": [],
      "authorship_tag": "ABX9TyNtlrlo4KUiXXas6TEtAbqD",
      "include_colab_link": true
    },
    "kernelspec": {
      "name": "python3",
      "display_name": "Python 3"
    },
    "language_info": {
      "name": "python"
    },
    "accelerator": "GPU"
  },
  "cells": [
    {
      "cell_type": "markdown",
      "metadata": {
        "id": "view-in-github",
        "colab_type": "text"
      },
      "source": [
        "<a href=\"https://colab.research.google.com/github/xbaca8/2021-CAM-REU/blob/main/MSTAR_CVAE.ipynb\" target=\"_parent\"><img src=\"https://colab.research.google.com/assets/colab-badge.svg\" alt=\"Open In Colab\"/></a>"
      ]
    },
    {
      "cell_type": "code",
      "metadata": {
        "colab": {
          "base_uri": "https://localhost:8080/"
        },
        "id": "2TC0mVkoFBQ_",
        "outputId": "f7500a1c-3a1d-44d2-ecb3-13dea91285fe"
      },
      "source": [
        "pip install -q graphlearning"
      ],
      "execution_count": null,
      "outputs": [
        {
          "output_type": "stream",
          "text": [
            "\u001b[K     |████████████████████████████████| 49 kB 2.3 MB/s \n",
            "\u001b[K     |████████████████████████████████| 646 kB 7.3 MB/s \n",
            "\u001b[K     |████████████████████████████████| 93 kB 1.5 MB/s \n",
            "\u001b[?25h  Building wheel for graphlearning (setup.py) ... \u001b[?25l\u001b[?25hdone\n",
            "  Building wheel for annoy (setup.py) ... \u001b[?25l\u001b[?25hdone\n"
          ],
          "name": "stdout"
        }
      ]
    },
    {
      "cell_type": "code",
      "metadata": {
        "id": "w9pw35AaFK40"
      },
      "source": [
        "import urllib.request\n",
        "import numpy as np\n",
        "import graphlearning as gl\n",
        "\n",
        "import ssl\n",
        "ssl._create_default_https_context = ssl._create_unverified_context\n",
        "\n",
        "urllib.request.urlretrieve('http://www-users.math.umn.edu/~jwcalder/SAR10.npz','SAR10.npz')\n",
        "M = np.load('SAR10.npz', allow_pickle=True)\n",
        "hdr,fields,mag,phase = M['hdr'],M['fields'],M['mag'],M['phase']"
      ],
      "execution_count": null,
      "outputs": []
    },
    {
      "cell_type": "code",
      "metadata": {
        "id": "GwBTVRFIFNPP"
      },
      "source": [
        "import imageio\n",
        "import matplotlib.pyplot as plt\n",
        "from torchvision.utils import save_image\n",
        "import torchvision.transforms as transforms\n",
        "\n",
        "to_pil_image = transforms.ToPILImage()\n",
        "\n",
        "def image_to_vid(images):\n",
        "    imgs = [np.array(to_pil_image(img)) for img in images]\n",
        "    imageio.mimsave('generated_images.gif', imgs)\n",
        "\n",
        "def save_reconstructed_images(recon_images, epoch):\n",
        "    save_image(recon_images.cpu(), f\"output{epoch}.jpg\")\n",
        "\n",
        "def save_loss_plot(train_loss, valid_loss):\n",
        "    # loss plots\n",
        "    plt.figure(figsize=(10, 7))\n",
        "    plt.plot(train_loss, color='orange', label='train loss')\n",
        "    plt.plot(valid_loss, color='red', label='validataion loss')\n",
        "    plt.xlabel('Epochs')\n",
        "    plt.ylabel('Loss')\n",
        "    plt.legend()\n",
        "    plt.savefig('loss.jpg')\n",
        "    plt.show()"
      ],
      "execution_count": null,
      "outputs": []
    },
    {
      "cell_type": "code",
      "metadata": {
        "id": "kKAqaokTFSkt"
      },
      "source": [
        "# Imports\n",
        "import torch\n",
        "import torchvision # torch package for vision related things\n",
        "import torch.nn.functional as F  # Parameterless functions, like (some) activation functions\n",
        "import torchvision.datasets as datasets  # Standard datasets\n",
        "from torch import optim  # For optimizers like SGD, Adam, etc.\n",
        "from torch import nn  # All neural network modules\n",
        "from torch.utils.data import Dataset, DataLoader  # Gives easier dataset managment by creating mini batches etc.\n",
        "from tqdm import tqdm  # For nice progress bar!\n",
        "from torch.optim.lr_scheduler import StepLR\n",
        "import matplotlib\n",
        "from torchvision.utils import make_grid\n",
        "\n",
        "matplotlib.style.use('ggplot')"
      ],
      "execution_count": null,
      "outputs": []
    },
    {
      "cell_type": "code",
      "metadata": {
        "id": "OmCIpmEhFXQx"
      },
      "source": [
        "class MyDataset(Dataset):\n",
        "    def __init__(self, data, targets, transform=None):\n",
        "        self.data = data\n",
        "        self.targets = targets\n",
        "        self.transform = transform\n",
        "        \n",
        "    def __getitem__(self, index):\n",
        "        x = self.data[index]\n",
        "        y = self.targets[index]\n",
        "        \n",
        "        if self.transform:\n",
        "            x = self.transform(x)\n",
        "        \n",
        "        return x, y\n",
        "    \n",
        "    def __len__(self):\n",
        "        return len(self.data)\n",
        "\n",
        "# Loss function (POTENTIALLY CHANGE BCE TO NLL)\n",
        "def final_loss(bce_loss, mu, logvar):\n",
        "    \"\"\"\n",
        "    This function will add the reconstruction loss (BCELoss) and the \n",
        "    KL-Divergence.\n",
        "    KL-Divergence = 0.5 * sum(1 + log(sigma^2) - mu^2 - sigma^2)\n",
        "    :param bce_loss: recontruction loss\n",
        "    :param mu: the mean from the latent vector\n",
        "    :param logvar: log variance from the latent vector\n",
        "    \"\"\"\n",
        "    BCE = bce_loss \n",
        "    KLD = -0.5 * torch.sum(1 + logvar - mu.pow(2) - logvar.exp())\n",
        "    return BCE + KLD\n",
        "\n",
        "# Training function\n",
        "def train(model, dataloader, dataset, device, optimizer, criterion):\n",
        "    model.train()\n",
        "    running_loss = 0.0\n",
        "    counter = 0\n",
        "    for i, data in tqdm(enumerate(dataloader), total=int(len(dataset)/dataloader.batch_size)):\n",
        "        counter += 1\n",
        "        data = data[0]\n",
        "        data = data.to(device)\n",
        "        optimizer.zero_grad()\n",
        "        reconstruction, mu, logvar = model(data)\n",
        "        bce_loss = criterion(reconstruction, data)\n",
        "        loss = final_loss(bce_loss, mu, logvar)\n",
        "        loss.backward()\n",
        "        running_loss += loss.item()\n",
        "        optimizer.step()\n",
        "\n",
        "    train_loss = running_loss / counter \n",
        "    return train_loss\n",
        "\n",
        "# Validation function\n",
        "def validate(model, dataloader, dataset, device, criterion):\n",
        "    model.eval()\n",
        "    running_loss = 0.0\n",
        "    counter = 0\n",
        "    with torch.no_grad():\n",
        "        for i, data in tqdm(enumerate(dataloader), total=int(len(dataset)/dataloader.batch_size)):\n",
        "            counter += 1\n",
        "            data = data[0]\n",
        "            data = data.to(device)\n",
        "            reconstruction, mu, logvar = model(data)\n",
        "            bce_loss = criterion(reconstruction, data)\n",
        "            loss = final_loss(bce_loss, mu, logvar)\n",
        "            running_loss += loss.item()\n",
        "        \n",
        "            # save the last batch input and output of every epoch\n",
        "            if i == int(len(dataset)/dataloader.batch_size) - 1:\n",
        "                recon_images = reconstruction\n",
        "\n",
        "    val_loss = running_loss / counter\n",
        "    return val_loss, recon_images"
      ],
      "execution_count": null,
      "outputs": []
    },
    {
      "cell_type": "code",
      "metadata": {
        "id": "Oph4C8aTFbdO"
      },
      "source": [
        "kernel_size = 3 # (3, 3) kernel\n",
        "num_classes = 10\n",
        "init_channels = 8 # initial number of filters\n",
        "image_channels = 1\n",
        "latent_dim = 32 # latent dimension for sampling\n",
        "\n",
        "# define a Conv VAE\n",
        "class CVAE(nn.Module):\n",
        "    def __init__(self):\n",
        "        super(CVAE, self).__init__()\n",
        " \n",
        "        # encoder\n",
        "        self.enc1 = nn.Conv2d(\n",
        "            in_channels=image_channels, out_channels=init_channels, kernel_size=kernel_size, \n",
        "            stride=1, padding=1\n",
        "        )\n",
        "        self.enc2 = nn.Conv2d(\n",
        "            in_channels=init_channels, out_channels=init_channels*2, kernel_size=kernel_size, \n",
        "            stride=1, padding=1\n",
        "        )\n",
        "        self.enc3 = nn.Conv2d(\n",
        "            in_channels=init_channels*2, out_channels=init_channels*4, kernel_size=kernel_size, \n",
        "            stride=1, padding=1\n",
        "        )\n",
        "        self.enc4 = nn.Conv2d(\n",
        "            in_channels=init_channels*4, out_channels=64, kernel_size=kernel_size, \n",
        "            stride=2, padding=1\n",
        "        )\n",
        "        # fully connected layers for learning representations\n",
        "        self.fc1 = nn.Linear(64*11*11, 128)\n",
        "        self.fc_mu = nn.Linear(128, latent_dim)\n",
        "        self.fc_log_var = nn.Linear(128, latent_dim)\n",
        "        self.fc2 = nn.Linear(latent_dim, 64)\n",
        "        # decoder \n",
        "        self.dec1 = nn.ConvTranspose2d(\n",
        "            in_channels=64, out_channels=init_channels*8, kernel_size=kernel_size, \n",
        "            stride=1, padding=0, output_padding=1, dilation=3\n",
        "        )\n",
        "        self.dec2 = nn.ConvTranspose2d(\n",
        "            in_channels=init_channels*8, out_channels=init_channels*4, kernel_size=kernel_size, \n",
        "            stride=2, padding=0, output_padding=1, dilation=3\n",
        "        )\n",
        "        self.dec3 = nn.ConvTranspose2d(\n",
        "            in_channels=init_channels*4, out_channels=init_channels*2, kernel_size=kernel_size, \n",
        "            stride=2, padding=1, output_padding=1, dilation=1\n",
        "        )\n",
        "        self.dec4 = nn.ConvTranspose2d(\n",
        "            in_channels=init_channels*2, out_channels=image_channels, kernel_size=kernel_size, \n",
        "            stride=2, padding=1, output_padding=1, dilation=1\n",
        "        )\n",
        "        self.droupout1 = nn.Dropout(0.5)\n",
        "\n",
        "    def reparameterize(self, mu, log_var):\n",
        "        \"\"\"\n",
        "        :param mu: mean from the encoder's latent space\n",
        "        :param log_var: log variance from the encoder's latent space\n",
        "        \"\"\"\n",
        "        std = torch.exp(0.5*log_var) # standard deviation\n",
        "        eps = torch.randn_like(std) # `randn_like` as we need the same size\n",
        "        sample = mu + (eps * std) # sampling\n",
        "        return sample\n",
        " \n",
        "    def forward(self, x): #88\n",
        "        # encoding\n",
        "        x = F.relu(self.enc1(x)) #88\n",
        "        x = F.max_pool2d(x, 2) #44\n",
        "        x = F.relu(self.enc2(x)) #44\n",
        "        x = F.max_pool2d(x, 2) #22\n",
        "        x = F.relu(self.enc3(x)) #22\n",
        "        x = F.relu(self.enc4(x)) #11\n",
        "        batch, _, _, _ = x.shape\n",
        "        x = self.droupout1(x)\n",
        "        x = x.reshape(batch, -1)\n",
        "        hidden = self.fc1(x) #(64*11*11, 128)\n",
        "        # get `mu` and `log_var`\n",
        "        mu = self.fc_mu(hidden)\n",
        "        log_var = self.fc_log_var(hidden)\n",
        "        # get the latent vector through reparameterization\n",
        "        z = self.reparameterize(mu, log_var) #(64, 16)\n",
        "        z = self.fc2(z) #(64, 64)\n",
        "        z = z.view(-1, 64, 1, 1)\n",
        " \n",
        "        # decoding\n",
        "        x = F.relu(self.dec1(z)) #8\n",
        "        x = F.relu(self.dec2(x)) #22\n",
        "        x = self.droupout1(x)\n",
        "        x = F.relu(self.dec3(x))\n",
        "        reconstruction = torch.sigmoid(self.dec4(x))\n",
        "        return reconstruction, mu, log_var\n",
        "\n",
        "    def encode(self, x):\n",
        "        x = F.relu(self.enc1(x)) #88\n",
        "        x = F.max_pool2d(x, 2) #44\n",
        "        x = F.relu(self.enc2(x)) #44\n",
        "        x = F.max_pool2d(x, 2) #22\n",
        "        x = F.relu(self.enc3(x)) #22\n",
        "        x = F.relu(self.enc4(x)) #11\n",
        "        x = self.droupout1(x)\n",
        "        x = x.reshape(x.shape[0], -1)\n",
        "        return x"
      ],
      "execution_count": null,
      "outputs": []
    },
    {
      "cell_type": "code",
      "metadata": {
        "id": "K4je779NFkV4"
      },
      "source": [
        "device = torch.device('cuda' if torch.cuda.is_available() else 'cpu')\n",
        "\n",
        "# initialize the model\n",
        "model = CVAE().to(device)\n",
        "\n",
        "# set the learning parameters\n",
        "lr = 0.001\n",
        "epochs = 50\n",
        "batch_size = 64\n",
        "optimizer = optim.Adam(model.parameters(), lr=lr)\n",
        "criterion = nn.BCELoss(reduction='sum')\n",
        "\n",
        "cuda = True\n",
        "kwargs = {'num_workers': 1, 'pin_memory': True} if cuda else {}\n",
        "\n",
        "# a list to save all the reconstructed images in PyTorch grid format\n",
        "grid_images = []"
      ],
      "execution_count": null,
      "outputs": []
    },
    {
      "cell_type": "code",
      "metadata": {
        "id": "om1FsrznFp-Z"
      },
      "source": [
        "#Convert targets to numerical labels\n",
        "target = hdr[:,0].tolist()\n",
        "classes = set(target)\n",
        "label_dict = dict(zip(classes, np.arange(len(classes))))\n",
        "labels = np.array([label_dict[t] for t in target],dtype=int)\n",
        "\n",
        "#Training and testing split (based on papers)\n",
        "angle = hdr[:,6].astype(int)\n",
        "train_idx = angle == 17\n",
        "test_idx = angle == 15\n",
        "\n",
        "#Train testing split and convert to torch\n",
        "data = torch.from_numpy(np.reshape(mag,(mag.shape[0],1,mag.shape[1],mag.shape[2]))).float()\n",
        "#data = data / torch.max(data)\n",
        "labels = torch.from_numpy(labels).long()\n",
        "data_train = data[train_idx,:,:,:]\n",
        "data_test = data[test_idx,:,:,:]\n",
        "target_train = labels[train_idx]\n",
        "target_test = labels[test_idx]\n",
        "\n",
        "# Creating indexes for later graph learning use\n",
        "all_indexes = np.arange(data.shape[0])\n",
        "train_indexes_used = all_indexes[train_idx]\n",
        "test_data_indexes = all_indexes[test_idx]\n",
        "\n",
        "#Randomly shuffle training data\n",
        "P = torch.randperm(np.sum(train_idx))\n",
        "data_train = data_train[P,:,:,:]\n",
        "target_train = target_train[P]\n",
        "\n",
        "#Convert to torch dataloaders\n",
        "dTr = data_train\n",
        "dV = data_test\n",
        "tTr = target_train\n",
        "tV = target_test\n",
        "\n",
        "SAR_train = MyDataset(dTr, tTr) \n",
        "trainloader = DataLoader(SAR_train, batch_size = batch_size, shuffle = True, **kwargs)\n",
        "\n",
        "SAR_validate = MyDataset(dV, tV) \n",
        "testloader = DataLoader(SAR_validate, batch_size = batch_size, shuffle = True, **kwargs)"
      ],
      "execution_count": null,
      "outputs": []
    },
    {
      "cell_type": "code",
      "metadata": {
        "colab": {
          "base_uri": "https://localhost:8080/",
          "height": 1000
        },
        "id": "rkgqsLlZFski",
        "outputId": "786d5fff-627c-4dfe-b758-04746f70eeab"
      },
      "source": [
        "train_loss = []\n",
        "valid_loss = []\n",
        "batch_size = 64\n",
        "\n",
        "for epoch in range(epochs):\n",
        "    print(f\"Epoch {epoch+1} of {epochs}\")\n",
        "\n",
        "    train_epoch_loss = train(\n",
        "        model, trainloader, SAR_train, device, optimizer, criterion\n",
        "    )\n",
        "    valid_epoch_loss, recon_images = validate(\n",
        "        model, testloader, SAR_validate, device, criterion\n",
        "    )\n",
        "\n",
        "    train_loss.append(train_epoch_loss)\n",
        "    valid_loss.append(valid_epoch_loss)\n",
        "\n",
        "    # save the reconstructed images from the validation loop\n",
        "    save_reconstructed_images(recon_images, epoch+1)\n",
        "\n",
        "    # convert the reconstructed images to PyTorch image grid format\n",
        "    image_grid = make_grid(recon_images.detach().cpu())\n",
        "    grid_images.append(image_grid)\n",
        "\n",
        "    print(f\"Train Loss: {train_epoch_loss:.4f}\")\n",
        "    print(f\"Val Loss: {valid_epoch_loss:.4f}\")\n",
        "\n",
        "# save the reconstructions as a .gif file\n",
        "image_to_vid(grid_images)\n",
        "\n",
        "# save the loss plots to disk\n",
        "save_loss_plot(train_loss, valid_loss)\n",
        "print('TRAINING COMPLETE')"
      ],
      "execution_count": null,
      "outputs": [
        {
          "output_type": "stream",
          "text": [
            "Epoch 1 of 50\n"
          ],
          "name": "stdout"
        },
        {
          "output_type": "stream",
          "text": [
            "\r  0%|          | 0/57 [00:00<?, ?it/s]/usr/local/lib/python3.7/dist-packages/torch/nn/functional.py:718: UserWarning: Named tensors and all their associated APIs are an experimental feature and subject to change. Please do not use them for anything important until they are released as stable. (Triggered internally at  /pytorch/c10/core/TensorImpl.h:1156.)\n",
            "  return torch.max_pool2d(input, kernel_size, stride, padding, dilation, ceil_mode)\n",
            "58it [00:02, 20.34it/s]                        \n",
            "51it [00:00, 101.78it/s]                        \n"
          ],
          "name": "stderr"
        },
        {
          "output_type": "stream",
          "text": [
            "Train Loss: 268552.1420\n",
            "Val Loss: 186381.6212\n",
            "Epoch 2 of 50\n"
          ],
          "name": "stdout"
        },
        {
          "output_type": "stream",
          "text": [
            "58it [00:02, 24.93it/s]                        \n",
            "51it [00:00, 102.90it/s]                        \n"
          ],
          "name": "stderr"
        },
        {
          "output_type": "stream",
          "text": [
            "Train Loss: 152257.6664\n",
            "Val Loss: 126869.9474\n",
            "Epoch 3 of 50\n"
          ],
          "name": "stdout"
        },
        {
          "output_type": "stream",
          "text": [
            "58it [00:02, 24.81it/s]                        \n",
            "51it [00:00, 98.60it/s]                         "
          ],
          "name": "stderr"
        },
        {
          "output_type": "stream",
          "text": [
            "Train Loss: 122811.6847\n",
            "Val Loss: 102941.7910\n",
            "Epoch 4 of 50\n"
          ],
          "name": "stdout"
        },
        {
          "output_type": "stream",
          "text": [
            "\n",
            "58it [00:02, 24.92it/s]                        \n",
            "51it [00:00, 100.37it/s]                        \n"
          ],
          "name": "stderr"
        },
        {
          "output_type": "stream",
          "text": [
            "Train Loss: 109501.4229\n",
            "Val Loss: 98833.1666\n",
            "Epoch 5 of 50\n"
          ],
          "name": "stdout"
        },
        {
          "output_type": "stream",
          "text": [
            "58it [00:02, 24.58it/s]                        \n",
            "51it [00:00, 103.60it/s]                        \n"
          ],
          "name": "stderr"
        },
        {
          "output_type": "stream",
          "text": [
            "Train Loss: 107560.0450\n",
            "Val Loss: 98165.9960\n",
            "Epoch 6 of 50\n"
          ],
          "name": "stdout"
        },
        {
          "output_type": "stream",
          "text": [
            "58it [00:02, 24.53it/s]                        \n",
            "51it [00:00, 104.98it/s]                        \n"
          ],
          "name": "stderr"
        },
        {
          "output_type": "stream",
          "text": [
            "Train Loss: 107027.4780\n",
            "Val Loss: 97894.5048\n",
            "Epoch 7 of 50\n"
          ],
          "name": "stdout"
        },
        {
          "output_type": "stream",
          "text": [
            "58it [00:02, 24.24it/s]                        \n",
            "51it [00:00, 100.65it/s]                        "
          ],
          "name": "stderr"
        },
        {
          "output_type": "stream",
          "text": [
            "Train Loss: 106762.0915\n",
            "Val Loss: 97808.5524\n",
            "Epoch 8 of 50\n"
          ],
          "name": "stdout"
        },
        {
          "output_type": "stream",
          "text": [
            "\n",
            "58it [00:02, 25.10it/s]                        \n",
            "51it [00:00, 100.98it/s]                        "
          ],
          "name": "stderr"
        },
        {
          "output_type": "stream",
          "text": [
            "Train Loss: 106554.0133\n",
            "Val Loss: 97719.6309\n",
            "Epoch 9 of 50\n"
          ],
          "name": "stdout"
        },
        {
          "output_type": "stream",
          "text": [
            "\n",
            "58it [00:02, 24.02it/s]                        \n",
            "51it [00:00, 104.37it/s]                        \n"
          ],
          "name": "stderr"
        },
        {
          "output_type": "stream",
          "text": [
            "Train Loss: 106389.5810\n",
            "Val Loss: 97462.1050\n",
            "Epoch 10 of 50\n"
          ],
          "name": "stdout"
        },
        {
          "output_type": "stream",
          "text": [
            "58it [00:02, 25.03it/s]                        \n",
            "51it [00:00, 102.44it/s]                        \n"
          ],
          "name": "stderr"
        },
        {
          "output_type": "stream",
          "text": [
            "Train Loss: 106243.1218\n",
            "Val Loss: 97424.8832\n",
            "Epoch 11 of 50\n"
          ],
          "name": "stdout"
        },
        {
          "output_type": "stream",
          "text": [
            "58it [00:02, 24.49it/s]                        \n",
            "51it [00:00, 101.48it/s]                        \n"
          ],
          "name": "stderr"
        },
        {
          "output_type": "stream",
          "text": [
            "Train Loss: 106082.4340\n",
            "Val Loss: 97470.3540\n",
            "Epoch 12 of 50\n"
          ],
          "name": "stdout"
        },
        {
          "output_type": "stream",
          "text": [
            "58it [00:02, 24.87it/s]                        \n",
            "51it [00:00, 100.52it/s]                        \n"
          ],
          "name": "stderr"
        },
        {
          "output_type": "stream",
          "text": [
            "Train Loss: 105966.4172\n",
            "Val Loss: 97311.7919\n",
            "Epoch 13 of 50\n"
          ],
          "name": "stdout"
        },
        {
          "output_type": "stream",
          "text": [
            "58it [00:02, 24.32it/s]                        \n",
            "51it [00:00, 103.61it/s]                        \n"
          ],
          "name": "stderr"
        },
        {
          "output_type": "stream",
          "text": [
            "Train Loss: 105844.6174\n",
            "Val Loss: 97267.4231\n",
            "Epoch 14 of 50\n"
          ],
          "name": "stdout"
        },
        {
          "output_type": "stream",
          "text": [
            "58it [00:02, 24.78it/s]                        \n",
            "51it [00:00, 100.93it/s]                        \n"
          ],
          "name": "stderr"
        },
        {
          "output_type": "stream",
          "text": [
            "Train Loss: 105735.4814\n",
            "Val Loss: 97299.7061\n",
            "Epoch 15 of 50\n"
          ],
          "name": "stdout"
        },
        {
          "output_type": "stream",
          "text": [
            "58it [00:02, 24.42it/s]                        \n",
            "51it [00:00, 97.69it/s]                         "
          ],
          "name": "stderr"
        },
        {
          "output_type": "stream",
          "text": [
            "Train Loss: 105658.7376\n",
            "Val Loss: 97199.4239\n",
            "Epoch 16 of 50\n"
          ],
          "name": "stdout"
        },
        {
          "output_type": "stream",
          "text": [
            "\n",
            "58it [00:02, 25.54it/s]                        \n",
            "51it [00:00, 101.00it/s]                        "
          ],
          "name": "stderr"
        },
        {
          "output_type": "stream",
          "text": [
            "Train Loss: 105581.7826\n",
            "Val Loss: 97179.6441\n",
            "Epoch 17 of 50\n"
          ],
          "name": "stdout"
        },
        {
          "output_type": "stream",
          "text": [
            "\n",
            "58it [00:02, 24.89it/s]                        \n",
            "51it [00:00, 102.27it/s]                        \n"
          ],
          "name": "stderr"
        },
        {
          "output_type": "stream",
          "text": [
            "Train Loss: 105509.1864\n",
            "Val Loss: 97207.6191\n",
            "Epoch 18 of 50\n"
          ],
          "name": "stdout"
        },
        {
          "output_type": "stream",
          "text": [
            "58it [00:02, 24.71it/s]                        \n",
            "51it [00:00, 105.12it/s]                        \n"
          ],
          "name": "stderr"
        },
        {
          "output_type": "stream",
          "text": [
            "Train Loss: 105444.4370\n",
            "Val Loss: 97168.9446\n",
            "Epoch 19 of 50\n"
          ],
          "name": "stdout"
        },
        {
          "output_type": "stream",
          "text": [
            "58it [00:02, 24.55it/s]                        \n",
            "51it [00:00, 98.35it/s]                         \n"
          ],
          "name": "stderr"
        },
        {
          "output_type": "stream",
          "text": [
            "Train Loss: 105406.5315\n",
            "Val Loss: 97223.9013\n",
            "Epoch 20 of 50\n"
          ],
          "name": "stdout"
        },
        {
          "output_type": "stream",
          "text": [
            "58it [00:02, 25.00it/s]                        \n",
            "51it [00:00, 99.77it/s]                         "
          ],
          "name": "stderr"
        },
        {
          "output_type": "stream",
          "text": [
            "Train Loss: 105361.2344\n",
            "Val Loss: 97085.9840\n",
            "Epoch 21 of 50\n"
          ],
          "name": "stdout"
        },
        {
          "output_type": "stream",
          "text": [
            "\n",
            "58it [00:02, 24.55it/s]                        \n",
            "51it [00:00, 104.45it/s]                        \n"
          ],
          "name": "stderr"
        },
        {
          "output_type": "stream",
          "text": [
            "Train Loss: 105326.4676\n",
            "Val Loss: 97146.8771\n",
            "Epoch 22 of 50\n"
          ],
          "name": "stdout"
        },
        {
          "output_type": "stream",
          "text": [
            "58it [00:02, 25.19it/s]                        \n",
            "51it [00:00, 104.58it/s]                        \n"
          ],
          "name": "stderr"
        },
        {
          "output_type": "stream",
          "text": [
            "Train Loss: 105296.3382\n",
            "Val Loss: 97174.9538\n",
            "Epoch 23 of 50\n"
          ],
          "name": "stdout"
        },
        {
          "output_type": "stream",
          "text": [
            "58it [00:02, 24.57it/s]                        \n",
            "51it [00:00, 98.58it/s]                         "
          ],
          "name": "stderr"
        },
        {
          "output_type": "stream",
          "text": [
            "Train Loss: 105270.7937\n",
            "Val Loss: 97135.6366\n",
            "Epoch 24 of 50\n"
          ],
          "name": "stdout"
        },
        {
          "output_type": "stream",
          "text": [
            "\n",
            "58it [00:02, 25.12it/s]                        \n",
            "51it [00:00, 100.48it/s]                        \n"
          ],
          "name": "stderr"
        },
        {
          "output_type": "stream",
          "text": [
            "Train Loss: 105248.4102\n",
            "Val Loss: 97148.8737\n",
            "Epoch 25 of 50\n"
          ],
          "name": "stdout"
        },
        {
          "output_type": "stream",
          "text": [
            "58it [00:02, 24.51it/s]                        \n",
            "51it [00:00, 105.56it/s]                        \n"
          ],
          "name": "stderr"
        },
        {
          "output_type": "stream",
          "text": [
            "Train Loss: 105218.5407\n",
            "Val Loss: 97028.4465\n",
            "Epoch 26 of 50\n"
          ],
          "name": "stdout"
        },
        {
          "output_type": "stream",
          "text": [
            "58it [00:02, 25.04it/s]                        \n",
            "51it [00:00, 103.60it/s]                        \n"
          ],
          "name": "stderr"
        },
        {
          "output_type": "stream",
          "text": [
            "Train Loss: 105200.3652\n",
            "Val Loss: 96936.9993\n",
            "Epoch 27 of 50\n"
          ],
          "name": "stdout"
        },
        {
          "output_type": "stream",
          "text": [
            "58it [00:02, 24.39it/s]                        \n",
            "51it [00:00, 98.49it/s]                        "
          ],
          "name": "stderr"
        },
        {
          "output_type": "stream",
          "text": [
            "Train Loss: 105169.4184\n",
            "Val Loss: 97067.7901\n",
            "Epoch 28 of 50\n"
          ],
          "name": "stdout"
        },
        {
          "output_type": "stream",
          "text": [
            "\n",
            "58it [00:02, 24.86it/s]                        \n",
            "51it [00:00, 99.21it/s]                         "
          ],
          "name": "stderr"
        },
        {
          "output_type": "stream",
          "text": [
            "Train Loss: 105153.6053\n",
            "Val Loss: 97075.2123\n",
            "Epoch 29 of 50\n"
          ],
          "name": "stdout"
        },
        {
          "output_type": "stream",
          "text": [
            "\n",
            "58it [00:02, 24.50it/s]                        \n",
            "51it [00:00, 103.00it/s]                        \n"
          ],
          "name": "stderr"
        },
        {
          "output_type": "stream",
          "text": [
            "Train Loss: 105132.7430\n",
            "Val Loss: 97025.2908\n",
            "Epoch 30 of 50\n"
          ],
          "name": "stdout"
        },
        {
          "output_type": "stream",
          "text": [
            "58it [00:02, 24.95it/s]                        \n",
            "51it [00:00, 103.11it/s]                        \n"
          ],
          "name": "stderr"
        },
        {
          "output_type": "stream",
          "text": [
            "Train Loss: 105123.9200\n",
            "Val Loss: 96985.7264\n",
            "Epoch 31 of 50\n"
          ],
          "name": "stdout"
        },
        {
          "output_type": "stream",
          "text": [
            "58it [00:02, 24.52it/s]                        \n",
            "51it [00:00, 95.95it/s]                        "
          ],
          "name": "stderr"
        },
        {
          "output_type": "stream",
          "text": [
            "Train Loss: 105100.5448\n",
            "Val Loss: 97023.8912\n",
            "Epoch 32 of 50\n"
          ],
          "name": "stdout"
        },
        {
          "output_type": "stream",
          "text": [
            "\n",
            "58it [00:02, 25.14it/s]                        \n",
            "51it [00:00, 99.34it/s]                         "
          ],
          "name": "stderr"
        },
        {
          "output_type": "stream",
          "text": [
            "Train Loss: 105089.8136\n",
            "Val Loss: 97053.6984\n",
            "Epoch 33 of 50\n"
          ],
          "name": "stdout"
        },
        {
          "output_type": "stream",
          "text": [
            "\n",
            "58it [00:02, 24.78it/s]                        \n",
            "51it [00:00, 103.28it/s]                        \n"
          ],
          "name": "stderr"
        },
        {
          "output_type": "stream",
          "text": [
            "Train Loss: 105063.1610\n",
            "Val Loss: 96966.2576\n",
            "Epoch 34 of 50\n"
          ],
          "name": "stdout"
        },
        {
          "output_type": "stream",
          "text": [
            "58it [00:02, 24.60it/s]                        \n",
            "51it [00:00, 103.80it/s]                        \n"
          ],
          "name": "stderr"
        },
        {
          "output_type": "stream",
          "text": [
            "Train Loss: 105051.1583\n",
            "Val Loss: 96957.0009\n",
            "Epoch 35 of 50\n"
          ],
          "name": "stdout"
        },
        {
          "output_type": "stream",
          "text": [
            "58it [00:02, 24.12it/s]                        \n",
            "51it [00:00, 100.72it/s]                        \n"
          ],
          "name": "stderr"
        },
        {
          "output_type": "stream",
          "text": [
            "Train Loss: 105026.6721\n",
            "Val Loss: 97093.8152\n",
            "Epoch 36 of 50\n"
          ],
          "name": "stdout"
        },
        {
          "output_type": "stream",
          "text": [
            "58it [00:02, 25.09it/s]                        \n",
            "51it [00:00, 99.23it/s]                        "
          ],
          "name": "stderr"
        },
        {
          "output_type": "stream",
          "text": [
            "Train Loss: 104998.9407\n",
            "Val Loss: 96953.7579\n",
            "Epoch 37 of 50\n"
          ],
          "name": "stdout"
        },
        {
          "output_type": "stream",
          "text": [
            "\n",
            "58it [00:02, 24.44it/s]                        \n",
            "51it [00:00, 102.05it/s]                        \n"
          ],
          "name": "stderr"
        },
        {
          "output_type": "stream",
          "text": [
            "Train Loss: 104971.5625\n",
            "Val Loss: 96955.3383\n",
            "Epoch 38 of 50\n"
          ],
          "name": "stdout"
        },
        {
          "output_type": "stream",
          "text": [
            "58it [00:02, 24.68it/s]                        \n",
            "51it [00:00, 100.37it/s]                        \n"
          ],
          "name": "stderr"
        },
        {
          "output_type": "stream",
          "text": [
            "Train Loss: 104952.9937\n",
            "Val Loss: 96845.9542\n",
            "Epoch 39 of 50\n"
          ],
          "name": "stdout"
        },
        {
          "output_type": "stream",
          "text": [
            "58it [00:02, 24.60it/s]                        \n",
            "51it [00:00, 100.20it/s]                        "
          ],
          "name": "stderr"
        },
        {
          "output_type": "stream",
          "text": [
            "Train Loss: 104925.5174\n",
            "Val Loss: 96833.0913\n",
            "Epoch 40 of 50\n"
          ],
          "name": "stdout"
        },
        {
          "output_type": "stream",
          "text": [
            "\n",
            "58it [00:02, 24.94it/s]                        \n",
            "51it [00:00, 99.87it/s]                         "
          ],
          "name": "stderr"
        },
        {
          "output_type": "stream",
          "text": [
            "Train Loss: 104881.5329\n",
            "Val Loss: 96850.1353\n",
            "Epoch 41 of 50\n"
          ],
          "name": "stdout"
        },
        {
          "output_type": "stream",
          "text": [
            "\n",
            "58it [00:02, 24.56it/s]                        \n",
            "51it [00:00, 104.42it/s]                        \n"
          ],
          "name": "stderr"
        },
        {
          "output_type": "stream",
          "text": [
            "Train Loss: 104858.5152\n",
            "Val Loss: 96790.7775\n",
            "Epoch 42 of 50\n"
          ],
          "name": "stdout"
        },
        {
          "output_type": "stream",
          "text": [
            "58it [00:02, 25.11it/s]                        \n",
            "51it [00:00, 103.21it/s]                        \n"
          ],
          "name": "stderr"
        },
        {
          "output_type": "stream",
          "text": [
            "Train Loss: 104820.1522\n",
            "Val Loss: 96795.2021\n",
            "Epoch 43 of 50\n"
          ],
          "name": "stdout"
        },
        {
          "output_type": "stream",
          "text": [
            "58it [00:02, 24.12it/s]                        \n",
            "51it [00:00, 101.34it/s]                        "
          ],
          "name": "stderr"
        },
        {
          "output_type": "stream",
          "text": [
            "Train Loss: 104801.8111\n",
            "Val Loss: 96741.6154\n",
            "Epoch 44 of 50\n"
          ],
          "name": "stdout"
        },
        {
          "output_type": "stream",
          "text": [
            "\n",
            "58it [00:02, 24.64it/s]                        \n",
            "51it [00:00, 98.52it/s]                         "
          ],
          "name": "stderr"
        },
        {
          "output_type": "stream",
          "text": [
            "Train Loss: 104789.9230\n",
            "Val Loss: 96620.6133\n",
            "Epoch 45 of 50\n"
          ],
          "name": "stdout"
        },
        {
          "output_type": "stream",
          "text": [
            "\n",
            "58it [00:02, 24.24it/s]                        \n",
            "51it [00:00, 102.03it/s]                        \n"
          ],
          "name": "stderr"
        },
        {
          "output_type": "stream",
          "text": [
            "Train Loss: 104761.9244\n",
            "Val Loss: 96802.8133\n",
            "Epoch 46 of 50\n"
          ],
          "name": "stdout"
        },
        {
          "output_type": "stream",
          "text": [
            "58it [00:02, 24.43it/s]                        \n",
            "51it [00:00, 101.61it/s]                        \n"
          ],
          "name": "stderr"
        },
        {
          "output_type": "stream",
          "text": [
            "Train Loss: 104725.3432\n",
            "Val Loss: 96719.3108\n",
            "Epoch 47 of 50\n"
          ],
          "name": "stdout"
        },
        {
          "output_type": "stream",
          "text": [
            "58it [00:02, 24.60it/s]                        \n",
            "51it [00:00, 98.52it/s]                         \n"
          ],
          "name": "stderr"
        },
        {
          "output_type": "stream",
          "text": [
            "Train Loss: 104720.7726\n",
            "Val Loss: 96822.7751\n",
            "Epoch 48 of 50\n"
          ],
          "name": "stdout"
        },
        {
          "output_type": "stream",
          "text": [
            "58it [00:02, 24.64it/s]                        \n",
            "51it [00:00, 99.24it/s]                         "
          ],
          "name": "stderr"
        },
        {
          "output_type": "stream",
          "text": [
            "Train Loss: 104704.1946\n",
            "Val Loss: 96645.8038\n",
            "Epoch 49 of 50\n"
          ],
          "name": "stdout"
        },
        {
          "output_type": "stream",
          "text": [
            "\n",
            "58it [00:02, 24.27it/s]                        \n",
            "51it [00:00, 103.03it/s]                        \n"
          ],
          "name": "stderr"
        },
        {
          "output_type": "stream",
          "text": [
            "Train Loss: 104675.4570\n",
            "Val Loss: 96588.2853\n",
            "Epoch 50 of 50\n"
          ],
          "name": "stdout"
        },
        {
          "output_type": "stream",
          "text": [
            "58it [00:02, 24.94it/s]                        \n",
            "51it [00:00, 102.07it/s]                        \n"
          ],
          "name": "stderr"
        },
        {
          "output_type": "stream",
          "text": [
            "Train Loss: 104664.9913\n",
            "Val Loss: 96634.8196\n"
          ],
          "name": "stdout"
        },
        {
          "output_type": "display_data",
          "data": {
            "image/png": "[encoded data removed]",
            "text/plain": [
              "<Figure size 720x504 with 1 Axes>"
            ]
          },
          "metadata": {
            "tags": []
          }
        },
        {
          "output_type": "stream",
          "text": [
            "TRAINING COMPLETE\n"
          ],
          "name": "stdout"
        }
      ]
    },
    {
      "cell_type": "code",
      "metadata": {
        "id": "1RMFYe_tFxJe"
      },
      "source": [
        "#Save model\n",
        "torch.save(model.state_dict(), 'SAR10_cvae.pt')\n",
        "\n",
        "CVAE_data = data\n",
        "\n",
        "#Encode the dataset and save to npz file\n",
        "with torch.no_grad():\n",
        "    mu = model.encode(CVAE_data.to(device))\n",
        "    Y = mu.cpu().numpy()\n",
        "    np.savez_compressed('SAR10_cvae.npz',data=Y,labels=labels)"
      ],
      "execution_count": null,
      "outputs": []
    },
    {
      "cell_type": "code",
      "metadata": {
        "colab": {
          "base_uri": "https://localhost:8080/"
        },
        "id": "A-cjepBpF7-Z",
        "outputId": "d5fd3784-cba2-4a25-ad9f-072d2a1b3e01"
      },
      "source": [
        "M = np.load('SAR10_cvae.npz')\n",
        "X = M['data']   #Encoded data\n",
        "L = M['labels'] #Labels\n",
        "\n",
        "print(X.shape)\n",
        "print(L.shape)\n",
        "\n",
        "W_cvae = gl.knn_weight_matrix(20,data=X)"
      ],
      "execution_count": null,
      "outputs": [
        {
          "output_type": "stream",
          "text": [
            "(6874, 7744)\n",
            "(6874,)\n",
            "kNN search with Annoy approximate nearest neighbor package...\n",
            "Progress: |██████████████████████████████████████████████████| 100.0% Complete\n"
          ],
          "name": "stdout"
        }
      ]
    },
    {
      "cell_type": "code",
      "metadata": {
        "colab": {
          "base_uri": "https://localhost:8080/"
        },
        "id": "5oP-HmMJGCwY",
        "outputId": "5138e0b3-bcf4-4420-a2c8-400e0c765d14"
      },
      "source": [
        "test_set_labels = L[test_data_indexes]\n",
        "sum = 0\n",
        "num_train_per_class = 50\n",
        "\n",
        "for i in range(20):\n",
        "\n",
        "  train_ind = gl.randomize_labels(L, num_train_per_class) #use angle=17 train labels\n",
        "  train_labels = L[train_ind]\n",
        "\n",
        "  #Run Laplace learning\n",
        "  laplace_labels = gl.graph_ssl(W_cvae,train_ind,train_labels,algorithm='laplace')\n",
        "\n",
        "  test_set_laplace_labels = laplace_labels[test_data_indexes]\n",
        "  #print(gl.accuracy(test_set_laplace_labels,test_set_labels,len(train_ind)))\n",
        "  sum += gl.accuracy(test_set_laplace_labels,test_set_labels,len(train_ind))\n",
        "\n",
        "average = sum / 20\n",
        "print('Average Test Accuracy:', average)"
      ],
      "execution_count": null,
      "outputs": [
        {
          "output_type": "stream",
          "text": [
            "Average Test Accuracy:  95.45874953755087\n"
          ],
          "name": "stdout"
        }
      ]
    }
  ]
}